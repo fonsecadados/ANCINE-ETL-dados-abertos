{
 "cells": [
  {
   "cell_type": "code",
   "execution_count": null,
   "metadata": {},
   "outputs": [],
   "source": [
    "import pandas as pd\n",
    "import numpy as np\n",
    "import matplotlib.pyplot as plt\n",
    "import seaborn as sns"
   ]
  },
  {
   "attachments": {},
   "cell_type": "markdown",
   "metadata": {},
   "source": [
    "AGENTES ECONÔMICOS - ES"
   ]
  },
  {
   "cell_type": "code",
   "execution_count": null,
   "metadata": {},
   "outputs": [],
   "source": [
    "df_agentes_es = pd.read_csv('agentes_es.csv')\n",
    "df_agentes_es\n",
    "\n",
    "\n",
    "sum_years = df_agentes_es['DATA_ANO'].value_counts()\n",
    "year = df_agentes_es['DATA_ANO'].sort_values().unique()\n",
    "%config InlineBackend.figure_format='retina'\n",
    "\n",
    "plt.plot(year, sum_years, label='Lucro Mensal do Último Ano',\n",
    "          color= 'r', marker='o', markerfacecolor='k', \n",
    "          linestyle='--', linewidth=1)\n",
    "\n",
    "\n",
    "plt.xlabel('Anos')\n",
    "plt.ylabel('Total Anual')\n",
    "plt.xticks(df_agentes_es['DATA_ANO'].sort_values().unique())\n",
    "plt.title('Agentes da ANCINE - ES')\n",
    "plt.yticks(df_agentes_es['DATA_ANO'].value_counts(ascending=True))\n",
    "plt.show()"
   ]
  },
  {
   "cell_type": "code",
   "execution_count": null,
   "metadata": {},
   "outputs": [],
   "source": [
    "\n",
    "\n",
    "fig, ax = plt.subplots(figsize=(8,8))\n",
    "\n",
    "sum_years = df_agentes_es['DATA_ANO'].value_counts(sort=False)\n",
    "year = df_agentes_es['DATA_ANO'].unique()\n",
    "\n",
    "\n",
    "bars = plt.barh(year, sum_years)\n",
    "\n",
    "\n",
    "ax.set_title('Agentes Econômicos ANCINE - ES')\n",
    "ax.spines[['right', 'top', 'bottom']].set_visible(False) \n",
    "ax.xaxis.set_visible(False)\n",
    "ax.set_yticks(df_agentes_es['DATA_ANO'].sort_values().unique())\n",
    "\n",
    "ax.bar_label(bars)\n",
    "\n",
    "\n",
    "\n",
    "plt.show()"
   ]
  },
  {
   "attachments": {},
   "cell_type": "markdown",
   "metadata": {},
   "source": [
    "AGENTES ECONOÔMICOS REGULARES"
   ]
  },
  {
   "cell_type": "code",
   "execution_count": null,
   "metadata": {},
   "outputs": [],
   "source": [
    "df_ag_econ = pd.read_csv('AgentesEconomicosRegulares.csv', encoding='latin1', sep=';')\n",
    "df_ag_econ = df_ag_econ[['REGISTRO_ANCINE',\t'DATA_REGISTRO', 'RAZAO_SOCIAL', 'MUNICIPIO', 'CD_MUNICIPIO_IBGE', 'UF', 'CLASSIFICACAO_AGENTE_ECONOMICO']]\n",
    "df_ag_econ\n",
    "\n",
    "import matplotlib.pyplot as plt\n",
    "\n",
    "\n",
    "uf_counts = {\n",
    "    'SP': 5371,\n",
    "    'RJ': 2671,\n",
    "    'MG': 935,\n",
    "    'RS': 854,\n",
    "    'PR': 836,\n",
    "    'SC': 513,\n",
    "    'BA': 507,\n",
    "    'Outros': 3114,\n",
    "}\n",
    "\n",
    "ufs = list(uf_counts.keys())\n",
    "counts = list(uf_counts.values())\n",
    "\n",
    "\n",
    "fig, ax = plt.subplots(figsize=(5.5,5.5))\n",
    "colors = plt.cm.Set3(range(len(ufs))) \n",
    "explode = [0.1 if uf == 'SP' else 0 for uf in ufs]  \n",
    "\n",
    "ax.pie(counts, labels=ufs, autopct='%1.1f%%', startangle=90, colors=colors, explode=explode, shadow=True)\n",
    "legend_labels = [f'{uf}: {count}' for uf, count in zip(ufs, counts)]\n",
    "ax.legend(ufs, loc='upper right', bbox_to_anchor=(1.3, 1.05))\n",
    "ax.set_title(\"Agentes Econômicos Regulares por UF\", fontweight='bold', y=0.99)\n",
    "ax.axis('equal')\n",
    "plt.show()\n"
   ]
  },
  {
   "cell_type": "code",
   "execution_count": null,
   "metadata": {},
   "outputs": [],
   "source": [
    "# Dados\n",
    "ano_counts = {\n",
    "    2021: 1837,\n",
    "    2018: 1742,\n",
    "    2022: 1649,\n",
    "    2019: 1622,\n",
    "    2020: 1603,\n",
    "    2013: 624,\n",
    "    2015: 586,\n",
    "    2014: 584,\n",
    "    2023: 457,\n",
    "    2016: 453,\n",
    "    2012: 399,\n",
    "    2011: 389,\n",
    "    2017: 379,\n",
    "    2005: 370,\n",
    "    2010: 367,\n",
    "    2003: 289,\n",
    "    2004: 286,\n",
    "    2008: 286,\n",
    "    2009: 281,\n",
    "    2006: 211,\n",
    "    2002: 196,\n",
    "    2007: 191\n",
    "}\n",
    "\n",
    "# Preparar os dados para o gráfico\n",
    "anos = list(ano_counts.keys())\n",
    "counts = list(ano_counts.values())\n",
    "\n",
    "fig, ax = plt.subplots(figsize=(8,8))\n",
    "\n",
    "\n",
    "bars = plt.barh(anos, counts)\n",
    "\n",
    "\n",
    "ax.set_title('Agentes Econômicos por Ano')\n",
    "ax.spines[['right', 'top', 'bottom']].set_visible(False) \n",
    "ax.xaxis.set_visible(False)\n",
    "ax.set_yticks(df_ag_econ['ANO'].sort_values().unique())\n",
    "\n",
    "ax.bar_label(bars)\n",
    "\n",
    "\n",
    "\n",
    "plt.show()"
   ]
  },
  {
   "cell_type": "code",
   "execution_count": null,
   "metadata": {},
   "outputs": [],
   "source": [
    "\n",
    "df_ag_econ['DATA_REGISTRO'] = pd.to_datetime(df_ag_econ['DATA_REGISTRO'])\n",
    "\n",
    "\n",
    "average_increase = df_ag_econ.groupby('UF')['ANO'].apply(lambda x: (x.max() - x.min()) / (x.nunique() - 1))\n",
    "\n",
    "average_increase.plot(kind='bar', figsize=(10, 6))\n",
    "plt.title('Average Increase of Economic Agents per UF')\n",
    "plt.xlabel('UF')\n",
    "plt.ylabel('Average Increase')\n",
    "plt.show()\n"
   ]
  },
  {
   "cell_type": "code",
   "execution_count": null,
   "metadata": {},
   "outputs": [],
   "source": []
  }
 ],
 "metadata": {
  "kernelspec": {
   "display_name": "Python 3",
   "language": "python",
   "name": "python3"
  },
  "language_info": {
   "codemirror_mode": {
    "name": "ipython",
    "version": 3
   },
   "file_extension": ".py",
   "mimetype": "text/x-python",
   "name": "python",
   "nbconvert_exporter": "python",
   "pygments_lexer": "ipython3",
   "version": "3.11.4"
  },
  "orig_nbformat": 4
 },
 "nbformat": 4,
 "nbformat_minor": 2
}
