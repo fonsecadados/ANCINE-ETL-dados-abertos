{
 "cells": [
  {
   "cell_type": "markdown",
   "metadata": {},
   "source": [
    "# Atalhos do Jupyter\n",
    "\n",
    "### 2 modos:\n",
    "\n",
    "1. Edit Mode\n",
    "2. Command Mode\n",
    "\n",
    "Obs: Material Útil para Markdown: https://github.com/adam-p/markdown-here/wiki/Markdown-Cheatsheet"
   ]
  },
  {
   "cell_type": "markdown",
   "metadata": {},
   "source": [
    "- Mudar o modo de edição\n",
    "    - Esc -> Command Mode\n",
    "    - Enter -> Edit Mode"
   ]
  },
  {
   "cell_type": "code",
   "execution_count": null,
   "metadata": {},
   "outputs": [],
   "source": []
  },
  {
   "cell_type": "markdown",
   "metadata": {},
   "source": [
    "- Inserir Célula (Command Mode)\n",
    "    - A -> Insere Acima\n",
    "    - B -> Insere Abaixo"
   ]
  },
  {
   "cell_type": "markdown",
   "metadata": {},
   "source": [
    "- Meu nome é Lira"
   ]
  },
  {
   "cell_type": "markdown",
   "metadata": {},
   "source": [
    "- Mudar o modo da célula (Command Mode)\n",
    "    - M -> Markdown (Texto)\n",
    "    - Y -> Código"
   ]
  },
  {
   "cell_type": "code",
   "execution_count": null,
   "metadata": {},
   "outputs": [],
   "source": []
  },
  {
   "cell_type": "markdown",
   "metadata": {},
   "source": [
    "- Executar Códigos (Edit Mode ou Command Mode)\n",
    "    - Ctrl + Enter -> Executa a célula de Código\n",
    "    - Alt + Enter -> Executa a célula de Código e adiciona uma nova célula abaixo\n",
    "    - Shift + Enter (mesma coisa do Run) -> Executa a célula de Código e Seleciona a célula abaixo. Caso não tenha uma célula abaixo, ele cria uma nova"
   ]
  },
  {
   "cell_type": "markdown",
   "metadata": {},
   "source": [
    "- Dicas e Ajudas de Código (Edit Mode)\n",
    "    - Tab\n",
    "        - Reconhece Variáveis já criadas\n",
    "        - Dá informações de funções\n",
    "        - Lista os Métodos"
   ]
  },
  {
   "cell_type": "code",
   "execution_count": null,
   "metadata": {},
   "outputs": [],
   "source": []
  },
  {
   "cell_type": "markdown",
   "metadata": {},
   "source": [
    "- Outros atalhos úteis pros códigos:\n",
    "    - Ctrl + / -> Comenta a linha\n",
    "    - Ctrl + Seta -> Caminha para a próxima palavra\n",
    "    - Ctrl + S -> Salva\n",
    "    - Ctrl + D -> Deleta a linha"
   ]
  },
  {
   "cell_type": "code",
   "execution_count": null,
   "metadata": {},
   "outputs": [],
   "source": []
  },
  {
   "cell_type": "markdown",
   "metadata": {},
   "source": [
    "- Ver novos atalhos? -> H em Command Mode\n",
    "- Criar novos atalhos? -> Help -> Edit Shortcuts (Apenas Command Mode)\n",
    "    - Ex: Vamos criar um atalho que executa o código inteiro\n",
    "    - Ex2: Criar um atalho que \"limpa\" todos os outputs"
   ]
  }
 ],
 "metadata": {
  "kernelspec": {
   "display_name": "Python 3",
   "language": "python",
   "name": "python3"
  },
  "language_info": {
   "codemirror_mode": {
    "name": "ipython",
    "version": 3
   },
   "file_extension": ".py",
   "mimetype": "text/x-python",
   "name": "python",
   "nbconvert_exporter": "python",
   "pygments_lexer": "ipython3",
   "version": "3.8.5"
  }
 },
 "nbformat": 4,
 "nbformat_minor": 4
}
