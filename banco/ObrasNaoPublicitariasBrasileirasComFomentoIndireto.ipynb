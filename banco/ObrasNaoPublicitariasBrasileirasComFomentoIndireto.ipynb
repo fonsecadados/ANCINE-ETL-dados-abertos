{
 "cells": [
  {
   "cell_type": "code",
   "execution_count": 1,
   "metadata": {},
   "outputs": [],
   "source": [
    "import pandas as pd\n",
    "import numpy as np\n"
   ]
  },
  {
   "cell_type": "code",
   "execution_count": 3,
   "metadata": {},
   "outputs": [
    {
     "data": {
      "text/html": [
       "<div>\n",
       "<style scoped>\n",
       "    .dataframe tbody tr th:only-of-type {\n",
       "        vertical-align: middle;\n",
       "    }\n",
       "\n",
       "    .dataframe tbody tr th {\n",
       "        vertical-align: top;\n",
       "    }\n",
       "\n",
       "    .dataframe thead th {\n",
       "        text-align: right;\n",
       "    }\n",
       "</style>\n",
       "<table border=\"1\" class=\"dataframe\">\n",
       "  <thead>\n",
       "    <tr style=\"text-align: right;\">\n",
       "      <th></th>\n",
       "      <th>TITULO_ORIGINAL</th>\n",
       "      <th>NUMERO_SALIC</th>\n",
       "    </tr>\n",
       "  </thead>\n",
       "  <tbody>\n",
       "    <tr>\n",
       "      <th>0</th>\n",
       "      <td>SEJA O QUE DEUS QUISER                        ...</td>\n",
       "      <td>23734</td>\n",
       "    </tr>\n",
       "    <tr>\n",
       "      <th>1</th>\n",
       "      <td>SEJA O QUE DEUS QUISER                        ...</td>\n",
       "      <td>327</td>\n",
       "    </tr>\n",
       "    <tr>\n",
       "      <th>2</th>\n",
       "      <td>DURVAL DISCOS                                 ...</td>\n",
       "      <td>973937</td>\n",
       "    </tr>\n",
       "    <tr>\n",
       "      <th>3</th>\n",
       "      <td>RUA SEIS SEM NUMERO                           ...</td>\n",
       "      <td>374</td>\n",
       "    </tr>\n",
       "    <tr>\n",
       "      <th>4</th>\n",
       "      <td>DESMUNDO                                      ...</td>\n",
       "      <td>984739</td>\n",
       "    </tr>\n",
       "    <tr>\n",
       "      <th>...</th>\n",
       "      <td>...</td>\n",
       "      <td>...</td>\n",
       "    </tr>\n",
       "    <tr>\n",
       "      <th>2406</th>\n",
       "      <td>BEM-VINDA VIOLETA                             ...</td>\n",
       "      <td>180432</td>\n",
       "    </tr>\n",
       "    <tr>\n",
       "      <th>2407</th>\n",
       "      <td>IRACEMAS                                      ...</td>\n",
       "      <td>150514</td>\n",
       "    </tr>\n",
       "    <tr>\n",
       "      <th>2408</th>\n",
       "      <td>AUTO POSTO - 2ª TEMPORADA                     ...</td>\n",
       "      <td>210003</td>\n",
       "    </tr>\n",
       "    <tr>\n",
       "      <th>2409</th>\n",
       "      <td>A VIRADA                                      ...</td>\n",
       "      <td>230092</td>\n",
       "    </tr>\n",
       "    <tr>\n",
       "      <th>2410</th>\n",
       "      <td>TECA E TUTI: UMA NOITE NA BIBLIOTECA          ...</td>\n",
       "      <td>70459</td>\n",
       "    </tr>\n",
       "  </tbody>\n",
       "</table>\n",
       "<p>2411 rows × 2 columns</p>\n",
       "</div>"
      ],
      "text/plain": [
       "                                        TITULO_ORIGINAL  NUMERO_SALIC\n",
       "0     SEJA O QUE DEUS QUISER                        ...         23734\n",
       "1     SEJA O QUE DEUS QUISER                        ...           327\n",
       "2     DURVAL DISCOS                                 ...        973937\n",
       "3     RUA SEIS SEM NUMERO                           ...           374\n",
       "4     DESMUNDO                                      ...        984739\n",
       "...                                                 ...           ...\n",
       "2406  BEM-VINDA VIOLETA                             ...        180432\n",
       "2407  IRACEMAS                                      ...        150514\n",
       "2408  AUTO POSTO - 2ª TEMPORADA                     ...        210003\n",
       "2409  A VIRADA                                      ...        230092\n",
       "2410  TECA E TUTI: UMA NOITE NA BIBLIOTECA          ...         70459\n",
       "\n",
       "[2411 rows x 2 columns]"
      ]
     },
     "execution_count": 3,
     "metadata": {},
     "output_type": "execute_result"
    }
   ],
   "source": [
    "df_obra_n_publi_br_invest_indi = pd.read_csv('ObrasNaoPublicitariasBrasileirasComFomentoIndireto.csv', encoding='latin1', sep=';')\n",
    "df_obra_n_publi_br_invest_indi = df_obra_n_publi_br_invest_indi[['TITULO_ORIGINAL', 'NUMERO_SALIC']]\n",
    "df_obra_n_publi_br_invest_indi"
   ]
  },
  {
   "cell_type": "code",
   "execution_count": 4,
   "metadata": {},
   "outputs": [],
   "source": [
    "df_obra_n_publi_br_invest_indi.to_csv('obra_n_publi_br_invest_indi.csv')"
   ]
  },
  {
   "cell_type": "code",
   "execution_count": null,
   "metadata": {},
   "outputs": [],
   "source": []
  }
 ],
 "metadata": {
  "kernelspec": {
   "display_name": "Python 3",
   "language": "python",
   "name": "python3"
  },
  "language_info": {
   "codemirror_mode": {
    "name": "ipython",
    "version": 3
   },
   "file_extension": ".py",
   "mimetype": "text/x-python",
   "name": "python",
   "nbconvert_exporter": "python",
   "pygments_lexer": "ipython3",
   "version": "3.11.4"
  },
  "orig_nbformat": 4
 },
 "nbformat": 4,
 "nbformat_minor": 2
}
