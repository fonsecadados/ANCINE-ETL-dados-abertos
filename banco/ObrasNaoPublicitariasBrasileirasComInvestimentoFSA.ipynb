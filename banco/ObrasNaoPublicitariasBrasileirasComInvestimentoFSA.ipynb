{
 "cells": [
  {
   "cell_type": "code",
   "execution_count": 1,
   "metadata": {},
   "outputs": [],
   "source": [
    "import pandas as pd\n",
    "import numpy as np"
   ]
  },
  {
   "cell_type": "code",
   "execution_count": 3,
   "metadata": {},
   "outputs": [
    {
     "data": {
      "text/html": [
       "<div>\n",
       "<style scoped>\n",
       "    .dataframe tbody tr th:only-of-type {\n",
       "        vertical-align: middle;\n",
       "    }\n",
       "\n",
       "    .dataframe tbody tr th {\n",
       "        vertical-align: top;\n",
       "    }\n",
       "\n",
       "    .dataframe thead th {\n",
       "        text-align: right;\n",
       "    }\n",
       "</style>\n",
       "<table border=\"1\" class=\"dataframe\">\n",
       "  <thead>\n",
       "    <tr style=\"text-align: right;\">\n",
       "      <th></th>\n",
       "      <th>TITULO_ORIGINAL</th>\n",
       "      <th>NUMERO_FSA</th>\n",
       "    </tr>\n",
       "  </thead>\n",
       "  <tbody>\n",
       "    <tr>\n",
       "      <th>0</th>\n",
       "      <td>ONDE A CORUJA DORME                           ...</td>\n",
       "      <td>210036000</td>\n",
       "    </tr>\n",
       "    <tr>\n",
       "      <th>1</th>\n",
       "      <td>O TABLADO E MARIA CLARA MACHADO               ...</td>\n",
       "      <td>212030500</td>\n",
       "    </tr>\n",
       "    <tr>\n",
       "      <th>2</th>\n",
       "      <td>BESOURO                                       ...</td>\n",
       "      <td>210053100</td>\n",
       "    </tr>\n",
       "    <tr>\n",
       "      <th>3</th>\n",
       "      <td>HISTÓRIAS DE AMOR DURAM APENAS 90 MINUTOS (SPL...</td>\n",
       "      <td>209060100</td>\n",
       "    </tr>\n",
       "    <tr>\n",
       "      <th>4</th>\n",
       "      <td>DO COMEÇO AO FIM                              ...</td>\n",
       "      <td>209061400</td>\n",
       "    </tr>\n",
       "    <tr>\n",
       "      <th>...</th>\n",
       "      <td>...</td>\n",
       "      <td>...</td>\n",
       "    </tr>\n",
       "    <tr>\n",
       "      <th>2055</th>\n",
       "      <td>MAMULENGO                                     ...</td>\n",
       "      <td>3823</td>\n",
       "    </tr>\n",
       "    <tr>\n",
       "      <th>2056</th>\n",
       "      <td>PORNOMELANCOLIA                               ...</td>\n",
       "      <td>3839</td>\n",
       "    </tr>\n",
       "    <tr>\n",
       "      <th>2057</th>\n",
       "      <td>NADA SERÁ COMO ANTES - A MÚSICA DO CLUBE DA ES...</td>\n",
       "      <td>2124</td>\n",
       "    </tr>\n",
       "    <tr>\n",
       "      <th>2058</th>\n",
       "      <td>PARTOUR                                       ...</td>\n",
       "      <td>9999</td>\n",
       "    </tr>\n",
       "    <tr>\n",
       "      <th>2059</th>\n",
       "      <td>PARTOUR                                       ...</td>\n",
       "      <td>2956</td>\n",
       "    </tr>\n",
       "  </tbody>\n",
       "</table>\n",
       "<p>2060 rows × 2 columns</p>\n",
       "</div>"
      ],
      "text/plain": [
       "                                        TITULO_ORIGINAL  NUMERO_FSA\n",
       "0     ONDE A CORUJA DORME                           ...   210036000\n",
       "1     O TABLADO E MARIA CLARA MACHADO               ...   212030500\n",
       "2     BESOURO                                       ...   210053100\n",
       "3     HISTÓRIAS DE AMOR DURAM APENAS 90 MINUTOS (SPL...   209060100\n",
       "4     DO COMEÇO AO FIM                              ...   209061400\n",
       "...                                                 ...         ...\n",
       "2055  MAMULENGO                                     ...        3823\n",
       "2056  PORNOMELANCOLIA                               ...        3839\n",
       "2057  NADA SERÁ COMO ANTES - A MÚSICA DO CLUBE DA ES...        2124\n",
       "2058  PARTOUR                                       ...        9999\n",
       "2059  PARTOUR                                       ...        2956\n",
       "\n",
       "[2060 rows x 2 columns]"
      ]
     },
     "execution_count": 3,
     "metadata": {},
     "output_type": "execute_result"
    }
   ],
   "source": [
    "df_obra_n_publi_br_fsa = pd.read_csv('ObrasNaoPublicitariasBrasileirasComInvestimentoFSA.csv', encoding='latin1', sep=';')\n",
    "df_obra_n_publi_br_fsa = df_obra_n_publi_br_fsa[['TITULO_ORIGINAL', 'NUMERO_FSA']]\n",
    "df_obra_n_publi_br_fsa"
   ]
  },
  {
   "cell_type": "code",
   "execution_count": 4,
   "metadata": {},
   "outputs": [],
   "source": [
    "df_obra_n_publi_br_fsa.to_csv('obra_n_publi_br_fsa.csv')"
   ]
  },
  {
   "cell_type": "code",
   "execution_count": null,
   "metadata": {},
   "outputs": [],
   "source": []
  }
 ],
 "metadata": {
  "kernelspec": {
   "display_name": "Python 3",
   "language": "python",
   "name": "python3"
  },
  "language_info": {
   "codemirror_mode": {
    "name": "ipython",
    "version": 3
   },
   "file_extension": ".py",
   "mimetype": "text/x-python",
   "name": "python",
   "nbconvert_exporter": "python",
   "pygments_lexer": "ipython3",
   "version": "3.11.4"
  },
  "orig_nbformat": 4
 },
 "nbformat": 4,
 "nbformat_minor": 2
}
