{
 "cells": [
  {
   "cell_type": "code",
   "execution_count": 1,
   "metadata": {},
   "outputs": [],
   "source": [
    "import pandas as pd\n",
    "import numpy as np"
   ]
  },
  {
   "cell_type": "code",
   "execution_count": 2,
   "metadata": {},
   "outputs": [],
   "source": [
    "df_prj_renuncia_fiscal = pd.read_csv('ProjetosRenunciaFiscal.csv', encoding='latin1', sep=';')\n",
    "df_prj_renuncia_fiscal = df_prj_renuncia_fiscal[['TITULO_PROJETO', 'MUNICIPIO_PROPONENTE', 'UF_PROPONENTE',\n",
    "       'SITUACAO_REGISTRO', 'RAZAO_SOCIAL_PROPONENTE',\n",
    "       'LEI_8313', 'ART1', 'ART1A', 'ART3', 'ART3A', 'ART39', 'FUNCINES',\n",
    "       'TOTAL_CAPTADO', 'DT_APROVACAO_CAPTACAO', 'DT_1_LIBERACAO']]"
   ]
  },
  {
   "cell_type": "code",
   "execution_count": 3,
   "metadata": {},
   "outputs": [],
   "source": [
    "df_prj_renuncia_fiscal['DT_1_LIBERACAO'] = pd.to_datetime(df_prj_renuncia_fiscal['DT_1_LIBERACAO'], format='%d/%m/%Y', dayfirst=True)\n",
    "df_prj_renuncia_fiscal['DT_APROVACAO_CAPTACAO'] = pd.to_datetime(df_prj_renuncia_fiscal['DT_APROVACAO_CAPTACAO'], format='%d/%m/%Y', dayfirst=True)"
   ]
  },
  {
   "cell_type": "code",
   "execution_count": 4,
   "metadata": {},
   "outputs": [
    {
     "name": "stdout",
     "output_type": "stream",
     "text": [
      "<class 'pandas.core.frame.DataFrame'>\n",
      "RangeIndex: 2916 entries, 0 to 2915\n",
      "Data columns (total 15 columns):\n",
      " #   Column                   Non-Null Count  Dtype         \n",
      "---  ------                   --------------  -----         \n",
      " 0   TITULO_PROJETO           2916 non-null   object        \n",
      " 1   MUNICIPIO_PROPONENTE     2916 non-null   object        \n",
      " 2   UF_PROPONENTE            2916 non-null   object        \n",
      " 3   SITUACAO_REGISTRO        2916 non-null   object        \n",
      " 4   RAZAO_SOCIAL_PROPONENTE  2916 non-null   object        \n",
      " 5   LEI_8313                 2916 non-null   float64       \n",
      " 6   ART1                     2916 non-null   float64       \n",
      " 7   ART1A                    2916 non-null   float64       \n",
      " 8   ART3                     2916 non-null   float64       \n",
      " 9   ART3A                    2916 non-null   float64       \n",
      " 10  ART39                    2916 non-null   float64       \n",
      " 11  FUNCINES                 2916 non-null   float64       \n",
      " 12  TOTAL_CAPTADO            2916 non-null   float64       \n",
      " 13  DT_APROVACAO_CAPTACAO    2916 non-null   datetime64[ns]\n",
      " 14  DT_1_LIBERACAO           2916 non-null   datetime64[ns]\n",
      "dtypes: datetime64[ns](2), float64(8), object(5)\n",
      "memory usage: 341.8+ KB\n"
     ]
    }
   ],
   "source": [
    "cols_to_convert = ['LEI_8313', 'ART1', 'ART1A', 'ART3', 'ART3A', 'ART39', 'FUNCINES', 'TOTAL_CAPTADO']\n",
    "for col in cols_to_convert:\n",
    "    df_prj_renuncia_fiscal[col] = df_prj_renuncia_fiscal[col].str.replace(',', '.').astype(float)\n",
    "\n",
    "df_prj_renuncia_fiscal.info()\n"
   ]
  },
  {
   "cell_type": "code",
   "execution_count": 7,
   "metadata": {},
   "outputs": [],
   "source": [
    "df_prj_renuncia_fiscal.to_csv('prj_renuncia_fiscal.csv')"
   ]
  },
  {
   "cell_type": "code",
   "execution_count": null,
   "metadata": {},
   "outputs": [],
   "source": []
  }
 ],
 "metadata": {
  "kernelspec": {
   "display_name": "Python 3",
   "language": "python",
   "name": "python3"
  },
  "language_info": {
   "codemirror_mode": {
    "name": "ipython",
    "version": 3
   },
   "file_extension": ".py",
   "mimetype": "text/x-python",
   "name": "python",
   "nbconvert_exporter": "python",
   "pygments_lexer": "ipython3",
   "version": "3.11.4"
  },
  "orig_nbformat": 4
 },
 "nbformat": 4,
 "nbformat_minor": 2
}
