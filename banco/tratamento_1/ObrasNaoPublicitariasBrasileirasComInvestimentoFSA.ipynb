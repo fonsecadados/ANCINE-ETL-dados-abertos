{
 "cells": [
  {
   "cell_type": "code",
   "execution_count": 1,
   "metadata": {},
   "outputs": [],
   "source": [
    "import pandas as pd\n",
    "import numpy as np"
   ]
  },
  {
   "cell_type": "code",
   "execution_count": 2,
   "metadata": {},
   "outputs": [
    {
     "data": {
      "text/html": [
       "<div>\n",
       "<style scoped>\n",
       "    .dataframe tbody tr th:only-of-type {\n",
       "        vertical-align: middle;\n",
       "    }\n",
       "\n",
       "    .dataframe tbody tr th {\n",
       "        vertical-align: top;\n",
       "    }\n",
       "\n",
       "    .dataframe thead th {\n",
       "        text-align: right;\n",
       "    }\n",
       "</style>\n",
       "<table border=\"1\" class=\"dataframe\">\n",
       "  <thead>\n",
       "    <tr style=\"text-align: right;\">\n",
       "      <th></th>\n",
       "      <th>CPB</th>\n",
       "      <th>TITULO_ORIGINAL</th>\n",
       "      <th>NUMERO_FSA</th>\n",
       "    </tr>\n",
       "  </thead>\n",
       "  <tbody>\n",
       "    <tr>\n",
       "      <th>0</th>\n",
       "      <td>B0700640600000</td>\n",
       "      <td>ONDE A CORUJA DORME                           ...</td>\n",
       "      <td>210036000</td>\n",
       "    </tr>\n",
       "    <tr>\n",
       "      <th>1</th>\n",
       "      <td>B0700727000000</td>\n",
       "      <td>O TABLADO E MARIA CLARA MACHADO               ...</td>\n",
       "      <td>212030500</td>\n",
       "    </tr>\n",
       "    <tr>\n",
       "      <th>2</th>\n",
       "      <td>B0901080700000</td>\n",
       "      <td>BESOURO                                       ...</td>\n",
       "      <td>210053100</td>\n",
       "    </tr>\n",
       "    <tr>\n",
       "      <th>3</th>\n",
       "      <td>B0901099200000</td>\n",
       "      <td>HISTÓRIAS DE AMOR DURAM APENAS 90 MINUTOS (SPL...</td>\n",
       "      <td>209060100</td>\n",
       "    </tr>\n",
       "    <tr>\n",
       "      <th>4</th>\n",
       "      <td>B0901103700000</td>\n",
       "      <td>DO COMEÇO AO FIM                              ...</td>\n",
       "      <td>209061400</td>\n",
       "    </tr>\n",
       "    <tr>\n",
       "      <th>...</th>\n",
       "      <td>...</td>\n",
       "      <td>...</td>\n",
       "      <td>...</td>\n",
       "    </tr>\n",
       "    <tr>\n",
       "      <th>2055</th>\n",
       "      <td>B2300154100000</td>\n",
       "      <td>MAMULENGO                                     ...</td>\n",
       "      <td>3823</td>\n",
       "    </tr>\n",
       "    <tr>\n",
       "      <th>2056</th>\n",
       "      <td>B2300165900000</td>\n",
       "      <td>PORNOMELANCOLIA                               ...</td>\n",
       "      <td>3839</td>\n",
       "    </tr>\n",
       "    <tr>\n",
       "      <th>2057</th>\n",
       "      <td>B2300166100000</td>\n",
       "      <td>NADA SERÁ COMO ANTES - A MÚSICA DO CLUBE DA ES...</td>\n",
       "      <td>2124</td>\n",
       "    </tr>\n",
       "    <tr>\n",
       "      <th>2058</th>\n",
       "      <td>B2300166800000</td>\n",
       "      <td>PARTOUR                                       ...</td>\n",
       "      <td>9999</td>\n",
       "    </tr>\n",
       "    <tr>\n",
       "      <th>2059</th>\n",
       "      <td>B2300166800000</td>\n",
       "      <td>PARTOUR                                       ...</td>\n",
       "      <td>2956</td>\n",
       "    </tr>\n",
       "  </tbody>\n",
       "</table>\n",
       "<p>2060 rows × 3 columns</p>\n",
       "</div>"
      ],
      "text/plain": [
       "                   CPB                                    TITULO_ORIGINAL   \n",
       "0     B0700640600000    ONDE A CORUJA DORME                           ...  \\\n",
       "1     B0700727000000    O TABLADO E MARIA CLARA MACHADO               ...   \n",
       "2     B0901080700000    BESOURO                                       ...   \n",
       "3     B0901099200000    HISTÓRIAS DE AMOR DURAM APENAS 90 MINUTOS (SPL...   \n",
       "4     B0901103700000    DO COMEÇO AO FIM                              ...   \n",
       "...                ...                                                ...   \n",
       "2055  B2300154100000    MAMULENGO                                     ...   \n",
       "2056  B2300165900000    PORNOMELANCOLIA                               ...   \n",
       "2057  B2300166100000    NADA SERÁ COMO ANTES - A MÚSICA DO CLUBE DA ES...   \n",
       "2058  B2300166800000    PARTOUR                                       ...   \n",
       "2059  B2300166800000    PARTOUR                                       ...   \n",
       "\n",
       "      NUMERO_FSA  \n",
       "0      210036000  \n",
       "1      212030500  \n",
       "2      210053100  \n",
       "3      209060100  \n",
       "4      209061400  \n",
       "...          ...  \n",
       "2055        3823  \n",
       "2056        3839  \n",
       "2057        2124  \n",
       "2058        9999  \n",
       "2059        2956  \n",
       "\n",
       "[2060 rows x 3 columns]"
      ]
     },
     "execution_count": 2,
     "metadata": {},
     "output_type": "execute_result"
    }
   ],
   "source": [
    "df_obra_n_publi_br_fsa = pd.read_csv('ObrasNaoPublicitariasBrasileirasComInvestimentoFSA.csv', encoding='latin1', sep=';')\n",
    "df_obra_n_publi_br_fsa"
   ]
  },
  {
   "cell_type": "code",
   "execution_count": 3,
   "metadata": {},
   "outputs": [
    {
     "name": "stdout",
     "output_type": "stream",
     "text": [
      "<class 'pandas.core.frame.DataFrame'>\n",
      "RangeIndex: 2060 entries, 0 to 2059\n",
      "Data columns (total 3 columns):\n",
      " #   Column           Non-Null Count  Dtype \n",
      "---  ------           --------------  ----- \n",
      " 0   CPB              2060 non-null   object\n",
      " 1   TITULO_ORIGINAL  2060 non-null   object\n",
      " 2   NUMERO_FSA       2060 non-null   int64 \n",
      "dtypes: int64(1), object(2)\n",
      "memory usage: 48.4+ KB\n"
     ]
    }
   ],
   "source": [
    "df_obra_n_publi_br_fsa.info()"
   ]
  },
  {
   "cell_type": "markdown",
   "metadata": {},
   "source": [
    "---"
   ]
  },
  {
   "cell_type": "code",
   "execution_count": 4,
   "metadata": {},
   "outputs": [],
   "source": [
    "df_obra_n_publi_br_fsa.to_csv('to_replace.ObrasNaoPublicitariasBrasileirasComInvestimentoFSA.csv', encoding='utf-8', index=False)"
   ]
  },
  {
   "cell_type": "code",
   "execution_count": null,
   "metadata": {},
   "outputs": [],
   "source": []
  }
 ],
 "metadata": {
  "kernelspec": {
   "display_name": "Python 3",
   "language": "python",
   "name": "python3"
  },
  "language_info": {
   "codemirror_mode": {
    "name": "ipython",
    "version": 3
   },
   "file_extension": ".py",
   "mimetype": "text/x-python",
   "name": "python",
   "nbconvert_exporter": "python",
   "pygments_lexer": "ipython3",
   "version": "3.11.5"
  },
  "orig_nbformat": 4
 },
 "nbformat": 4,
 "nbformat_minor": 2
}
