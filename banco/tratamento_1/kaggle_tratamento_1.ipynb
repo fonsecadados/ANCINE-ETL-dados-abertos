{
 "cells": [
  {
   "cell_type": "markdown",
   "metadata": {},
   "source": [
    "Bibliotecas"
   ]
  },
  {
   "cell_type": "code",
   "execution_count": 19,
   "metadata": {},
   "outputs": [],
   "source": [
    "import pandas as pd\n",
    "import numpy as np\n",
    "import csv"
   ]
  },
  {
   "cell_type": "markdown",
   "metadata": {},
   "source": [
    "---"
   ]
  },
  {
   "cell_type": "markdown",
   "metadata": {},
   "source": [
    "Importando Arquivos"
   ]
  },
  {
   "cell_type": "code",
   "execution_count": 20,
   "metadata": {},
   "outputs": [],
   "source": [
    "df_ag_econ = pd.read_csv('AgentesEconomicosRegulares.csv', encoding='latin1', sep=';')\n",
    "df_apoio_fest= pd.read_csv('ApoioFestivaisLaboratoriosWorkshops.csv', encoding='latin1', sep=';')\n",
    "df_ativi_econ_agent_regis = pd.read_csv('AtividadesEconomicasDosAgentesRegistrados.csv', encoding='latin1', sep=';')\n",
    "df_bilheteria = pd.read_csv('BilheteriaObrasSemana.csv', encoding='latin1', sep=';')\n",
    "df_canais_regis = pd.read_csv('CanaisDasProgramadorasRegistradas.csv', encoding='latin1', sep=';')\n",
    "df_canal_distrib_obrig = pd.read_csv('CanaisDeDistribuicaoObrigatoria.csv', encoding='latin1', sep=';')\n",
    "df_dir_publi_br = pd.read_csv('DiretoresDeObrasNaoPublicitariasBrasileiras.csv', encoding='latin1', sep=';')\n",
    "\n",
    "data1 = []\n",
    "with open('DiretoresDeObrasNaoPublicitariasEstrangeiras.csv', 'r', encoding='latin1') as file:\n",
    "    reader = csv.reader(file, delimiter=';')\n",
    "    for row in reader:\n",
    "        data1.append(row)\n",
    "\n",
    "df_dir_obra_publi_estrang = pd.DataFrame(data1)\n",
    "\n",
    "df_film_estrang = pd.read_csv('FilmagemEstrangeira.csv', encoding='latin1', sep=';')\n",
    "df_grupos_econ = pd.read_csv('GruposEconomicos.csv', encoding='latin1', sep=';')\n",
    "df_invest_proj_renun_fiscal = pd.read_csv('InvestidoresEmProjetosRenunciaFiscal.csv', encoding='latin1', sep=';')\n",
    "df_obra_nao_publi_br = pd.read_csv('ObrasNaoPublicitariasBrasileiras.csv', encoding='latin1', sep=';')\n",
    "df_obra_n_publi_br_invest_indi = pd.read_csv('ObrasNaoPublicitariasBrasileirasComFomentoIndireto.csv', encoding='latin1', sep=';')\n",
    "df_obra_n_publi_br_fsa = pd.read_csv('ObrasNaoPublicitariasBrasileirasComInvestimentoFSA.csv', encoding='latin1', sep=';')\n",
    "\n",
    "data2 = []\n",
    "with open('ObrasNaoPublicitariasEstrangeiras.csv', 'r', encoding='latin1') as file:\n",
    "    reader = csv.reader(file, delimiter=';')\n",
    "    for row in reader:\n",
    "        data2.append(row)\n",
    "\n",
    "df_obra_publi_estrang = pd.DataFrame(data2)\n",
    "\n",
    "df_pais_obras_nao_publi_br = pd.read_csv('PaisesDeOrigemObrasNaoPublicitariasBrasileiras.csv', encoding='latin1', sep=';')\n",
    "df_prg_apoio_mercado = pd.read_csv('ProgramaApoioAMercados.csv', encoding='latin1', sep=';')\n",
    "df_proj_fsa_desemb = pd.read_csv('ProjetosContratadosFSAeDesembolso.csv', encoding='latin1', sep=';')\n",
    "df_proj_renun_fisc = pd.read_csv('ProjetosRenunciaFiscal.csv', encoding='latin1', sep=';')\n",
    "df_salas_exib = pd.read_csv('SalasDeExibicaoEComplexos.csv', encoding='latin1', sep=';')"
   ]
  },
  {
   "cell_type": "markdown",
   "metadata": {},
   "source": [
    "---"
   ]
  },
  {
   "cell_type": "markdown",
   "metadata": {},
   "source": [
    "# Transformação"
   ]
  },
  {
   "cell_type": "markdown",
   "metadata": {},
   "source": [
    "Limpeza, Filtragem e Padronização dos Dados"
   ]
  },
  {
   "cell_type": "markdown",
   "metadata": {},
   "source": [
    "AgentesEconomicosRegulares"
   ]
  },
  {
   "cell_type": "code",
   "execution_count": 21,
   "metadata": {},
   "outputs": [],
   "source": [
    "# Transformando dtypes de colunas\n",
    "\n",
    "# 'DATA_REGISTRO' em Datetime\n",
    "df_ag_econ['DATA_REGISTRO'] = pd.to_datetime(df_ag_econ['DATA_REGISTRO'], format='%d/%m/%Y', dayfirst=True)\n",
    "\n",
    "\n",
    "# Preenchendo valores vazios\n",
    "\n",
    "null_values = []\n",
    "default_value = 3550308.0\n",
    "\n",
    "for index, row in df_ag_econ.iterrows():\n",
    "    if pd.isnull(row['CD_MUNICIPIO_IBGE']):\n",
    "        row['CD_MUNICIPIO_IBGE'] = default_value\n",
    "        null_values.append(index)\n",
    "\n",
    "df_ag_econ['CD_MUNICIPIO_IBGE'].fillna(default_value, inplace=True)"
   ]
  },
  {
   "cell_type": "markdown",
   "metadata": {},
   "source": [
    "ApoioFestivaisLaboratoriosWorkshops"
   ]
  },
  {
   "cell_type": "code",
   "execution_count": 22,
   "metadata": {},
   "outputs": [],
   "source": [
    "# Função para preencher valores nulos específicos\n",
    "def fill_nan(column, row, new_value):\n",
    "    df_apoio_fest.at[row, column] = new_value\n",
    "\n",
    "# Função para padronizar strings específicas\n",
    "def padro_str(valores, coluna):\n",
    "    return coluna.replace(valores)\n",
    "# Aplicar a função para substituir valores \n",
    "# coluna = padro_str(valores, coluna)\n",
    "\n",
    "# Transformando dtypes de colunas\n",
    "\n",
    "# 'DT_INICIO_FESTIVAL' e 'DT_TERMINO_FESTIVAL' em Datetime\n",
    "df_apoio_fest['DT_INICIO_FESTIVAL']= pd.to_datetime(df_apoio_fest['DT_INICIO_FESTIVAL'], format='%d/%m/%Y', dayfirst=True)\n",
    "df_apoio_fest['DT_TERMINO_FESTIVAL']= pd.to_datetime(df_apoio_fest['DT_TERMINO_FESTIVAL'], format='%d/%m/%Y', dayfirst=True)\n",
    "\n",
    "\n",
    "# 'VALOR_APOIO' em float\n",
    "df_apoio_fest['VALOR_APOIO'] = df_apoio_fest['VALOR_APOIO'].apply(lambda x: float(x.replace(',', '.')))\n",
    "\n",
    "\n",
    "# Tratando valores NULOS\n",
    "\n",
    "# 'MOSTRA_CATEGORIA' \n",
    "df_apoio_fest['MOSTRA_CATEGORIA'].fillna(\"Sem Informação\", inplace=True)\n",
    "\n",
    "# 'CNPJ_PRODUTORA' \n",
    "df_apoio_fest['CNPJ_PRODUTORA'].fillna(\"00.000.000/0000-00\", inplace=True)\n",
    "\n",
    "# 'RAZAO_SOCIAL_PRODUTORA'\n",
    "fill_nan('RAZAO_SOCIAL_PRODUTORA', 4, 'Daniel Lentini Faria')\n",
    "fill_nan('RAZAO_SOCIAL_PRODUTORA', 19, 'Maria Julia Pereira de Paiva')\n",
    "fill_nan('RAZAO_SOCIAL_PRODUTORA', 29, 'Letícia Fudissaku')\n",
    "fill_nan('RAZAO_SOCIAL_PRODUTORA', 39, 'Mariana Jaspe de Souza Oliveira')\n",
    "fill_nan('RAZAO_SOCIAL_PRODUTORA', 68, 'Julia Araújo Ferreira da Silva')\n",
    "\n",
    "# 'METRAGEM'\n",
    "fill_nan('METRAGEM', 83, 'Média')\n",
    "\n",
    "\n",
    "# Padronizando Strings\n",
    "\n",
    "# 'MOSTRA_CATEGORIA'\n",
    "valores_substituir_metragem = {\n",
    "    'Mèdia': 'Média',\n",
    "    'Média ': 'Média',\n",
    "    ' Mèdia ': 'Média',\n",
    "    'projeto': 'Projeto de Longa',\n",
    "    'projeto ': 'Projeto de Longa',\n",
    "    'Projeto ': 'Projeto de Longa',\n",
    "    'Projeto': 'Projeto de Longa',\n",
    "    ' Mêdia ': 'Média',\n",
    "    'Longa ': 'Longa',\n",
    "    'Curta ': 'Curta',\n",
    "    'projeto de longa': 'Projeto de Longa',\n",
    "    'projeto de longa ': 'Projeto de Longa',\n",
    "    'projeto de longa  ': 'Projeto de Longa',\n",
    "    'projeto de Longa': 'Projeto de Longa',\n",
    "    ' projeto de longa  ': 'Projeto de Longa',\n",
    "    'Projeto de longa': 'Projeto de Longa',\n",
    "    'Projeto de longa ': 'Projeto de Longa',\n",
    "    'Projeto de Longa': 'Projeto de Longa'\n",
    "}\n",
    "\n",
    "df_apoio_fest['METRAGEM'] = df_apoio_fest['METRAGEM'].replace(valores_substituir_metragem)\n",
    "\n",
    "# 'TIPO_APOIO'\n",
    "valores_substituir_tipo_apoio = {\n",
    "    'Apoio financeiro' : 'Apoio Financeiro',\n",
    "    '3. Apoio financeiro ' : 'Apoio Financeiro',\n",
    "    '3. Apoio financeiro' : 'Apoio Financeiro',\n",
    "    '3. apoio financeiro ' : 'Apoio Financeiro',\n",
    "    '1. Cópia 2. Envio 3. Apoio financeiro' : 'Apoio Financeiro',\n",
    "}\n",
    "\n",
    "df_apoio_fest['TIPO_APOIO'] = df_apoio_fest['TIPO_APOIO'].replace(valores_substituir_tipo_apoio)\n",
    "\n",
    "\n",
    "# Padronizando coluna 'MOSTRA_CATEGORIA'\n",
    "df_apoio_fest['MOSTRA_CATEGORIA'] = df_apoio_fest['nova'] = df_apoio_fest['MOSTRA_CATEGORIA'].str.split(';')\n",
    "df_apoio_fest = df_apoio_fest.explode('MOSTRA_CATEGORIA')\n",
    "del df_apoio_fest['nova']"
   ]
  },
  {
   "cell_type": "markdown",
   "metadata": {},
   "source": [
    "BilheteriaObrasSemana"
   ]
  },
  {
   "cell_type": "code",
   "execution_count": 23,
   "metadata": {},
   "outputs": [],
   "source": [
    "# Transformando dtypes de colunas\n",
    "\n",
    "# 'ANO_CINEMATOGRAFICO', 'DT_INICIO_EXIBICAO' e 'DT_FIM_EXIBICAO' em Datetime\n",
    "df_bilheteria['ANO_CINEMATOGRAFICO'] = pd.to_datetime(df_bilheteria['ANO_CINEMATOGRAFICO'], format='ISO8601', dayfirst=True)\n",
    "df_bilheteria['DT_INICIO_EXIBICAO'] = pd.to_datetime(df_bilheteria['DT_INICIO_EXIBICAO'], format='%d/%m/%Y', dayfirst=True)\n",
    "df_bilheteria['DT_FIM_EXIBICAO'] = pd. to_datetime(df_bilheteria['DT_FIM_EXIBICAO'], format='%d/%m/%Y', dayfirst=True)\n",
    "\n",
    "# 'RENDA' em float\n",
    "df_bilheteria['RENDA'] = df_bilheteria['RENDA'].str.replace(',' , '.').astype(float)\n",
    "\n",
    "# Preenchendo valores Nulos\n",
    "df_bilheteria['TITULO_BRASILEIRO'].fillna(df_bilheteria['TITULO_ORIGINAL'], inplace=True)"
   ]
  },
  {
   "cell_type": "markdown",
   "metadata": {},
   "source": [
    "CanaisDasProgramadorasRegistradas"
   ]
  },
  {
   "cell_type": "code",
   "execution_count": 24,
   "metadata": {},
   "outputs": [],
   "source": [
    "#Verificar se há algum NaN ou Null\n",
    "\n",
    "def null(df):\n",
    "    df.info()\n",
    "\n",
    "#Tratando valores nulos\n",
    "\n",
    "def fill_null(df, coluna, fill):\n",
    "    df[coluna].fillna(fill, inplace=True)\n",
    "    \n",
    "\n",
    "# Transformando dtypes de colunas\n",
    "\n",
    "# 'DATA_INICIO_OFERTA' em datetime\n",
    "\n",
    "def date(df, coluna):\n",
    "    df[coluna] = pd.to_datetime(df[coluna], dayfirst=True)\n",
    "\n",
    "# 'NR_IDENTIFICACAO' em float\n",
    "\n",
    "def convert_to_float(df, column_name):\n",
    "    df[column_name] = pd.to_numeric(df[column_name].str.strip(), errors='coerce')\n",
    "\n",
    "\n",
    "fill_null(df_canais_regis, 'CNPJ_PROGRAMADORA', '00.000.000/0000-00')\n",
    "fill_null(df_canais_regis,'CLASSIFICAO_PROGRAMADORA', 'Sem Informação')\n",
    "date(df_canais_regis, 'DATA_INICIO_OFERTA')\n",
    "convert_to_float(df_canais_regis, 'NR_IDENTIFICACAO')"
   ]
  },
  {
   "cell_type": "markdown",
   "metadata": {},
   "source": [
    "CanaisDeDistribuicaoObrigatoria"
   ]
  },
  {
   "cell_type": "code",
   "execution_count": 25,
   "metadata": {},
   "outputs": [],
   "source": [
    "#Fill Null\n",
    "def fill_null(df, coluna, fill):\n",
    "    df[coluna].fillna(fill, inplace=True)\n",
    "\n",
    "fill_null(df_canal_distrib_obrig, 'CLASSIFICACAO_CANAL', 'SEM INFORMAÇÃO')\n",
    "fill_null(df_canal_distrib_obrig, 'TIPO_CONTEUDO_CANAL', 'SEM INFORMAÇÃO')\n",
    "fill_null(df_canal_distrib_obrig, 'CLASSIFICAO_PROGRAMADORA', 'SEM INFORMAÇÃO')\n",
    "\n",
    "#convert values\n",
    "def convert_to(df, coluna):\n",
    "    df[coluna] = df[coluna].astype(float)\n",
    "\n",
    "convert_to(df_canal_distrib_obrig, 'NR_IDENTIFICACAO')\n",
    "\n",
    "#to_datetime\n",
    "def to_datetime(df, coluna):\n",
    "    df[coluna] = pd.to_datetime(df[coluna], dayfirst=True)\n",
    "\n",
    "to_datetime(df_canal_distrib_obrig, 'DATA_INICIO_OFERTA')"
   ]
  },
  {
   "cell_type": "markdown",
   "metadata": {},
   "source": [
    "DiretoresDeObrasNaoPublicitariasEstrangeiras"
   ]
  },
  {
   "cell_type": "code",
   "execution_count": 26,
   "metadata": {},
   "outputs": [],
   "source": [
    "#Fill Null\n",
    "def fill_null(df, coluna, fill):\n",
    "    df[coluna].fillna(fill, inplace=True)\n",
    "\n",
    "fill_null(df_dir_obra_publi_estrang, 3, '.')\n",
    "fill_null(df_dir_obra_publi_estrang, 4, '.')\n",
    "\n",
    "\n",
    "def remove_column(df, coluna):\n",
    "    if coluna in df.columns:\n",
    "        df.drop(coluna, axis=1, inplace=True)\n",
    "\n",
    "    else:\n",
    "        pass\n",
    "\n",
    "remove_column(df_dir_obra_publi_estrang, 8)\n",
    "remove_column(df_dir_obra_publi_estrang, 7)\n",
    "remove_column(df_dir_obra_publi_estrang, 6)\n",
    "remove_column(df_dir_obra_publi_estrang, 5)\n",
    "\n",
    "df_dir_obra_publi_estrang.columns = df_dir_obra_publi_estrang.iloc[0]\n",
    "df_dir_obra_publi_estrang = df_dir_obra_publi_estrang[1:]\n",
    "\n",
    "df_dir_obra_publi_estrang = df_dir_obra_publi_estrang.drop(df_dir_obra_publi_estrang.columns[0], axis=1)\n"
   ]
  },
  {
   "cell_type": "markdown",
   "metadata": {},
   "source": [
    "FilmagemEstrangeira"
   ]
  },
  {
   "cell_type": "code",
   "execution_count": 27,
   "metadata": {},
   "outputs": [],
   "source": [
    "#Preenchendo valores nulos\n",
    "def fill_null(df, coluna, fill=False):\n",
    "    df[coluna].fillna(fill, inplace=True)\n",
    "fill_coluna_tecnicos = df_film_estrang['TOTAL_TECNCIOS_ESTRANGEIROS'].mean()\n",
    "# fill_coluna_periodo_producao_inicio =\n",
    "fill_null(df_film_estrang, 'TOTAL_TECNCIOS_ESTRANGEIROS', fill_coluna_tecnicos)\n",
    "\n",
    "#Trnsformando em int\n",
    "def convert_to_int(df, column_name):\n",
    "    df[column_name] = pd.to_numeric(df[column_name], errors='coerce')\n",
    "    df[column_name].fillna(pd.NA, inplace=True)\n",
    "    df[column_name] = df[column_name].round().astype('Int64')\n",
    "convert_to_int(df_film_estrang, 'TOTAL_TECNCIOS_ESTRANGEIROS')\n",
    "\n",
    "#Corrigindo nome de coluna\n",
    "def rename_column(df, nome_antigo, nome_novo):\n",
    "    df.rename(columns={nome_antigo: nome_novo}, inplace=True)\n",
    "\n",
    "rename_column(df_film_estrang, 'TOTAL_TECNCIOS_ESTRANGEIROS', 'TOTAL_TECNICOS_ESTRANGEIROS')\n",
    "\n",
    "#Dividindo coluna em 2 e convertendo para datetime\n",
    "def split_column(df, source_column, new_column1, new_column2, separator):\n",
    "    df[[new_column1, new_column2]] = df[source_column].str.split(separator, expand=True)\n",
    "\n",
    "def column_to_datetime(df, new_column):\n",
    "    df[new_column] = pd.to_datetime(df[new_column], dayfirst=True, errors='coerce')\n",
    "\n",
    "\n",
    "split_column(df_film_estrang, 'PERIODO_PRODUCAO', 'PERIODO_PRODUCAO_INICIO', 'PERIODO_PRODUCAO_FIM', 'a' )\n",
    "column_to_datetime(df_film_estrang,'PERIODO_PRODUCAO_INICIO')\n",
    "column_to_datetime(df_film_estrang,'PERIODO_PRODUCAO_FIM')\n",
    "column_to_datetime(df_film_estrang,'DT_APROVACAO')\n",
    "\n",
    "df_film_estrang = df_film_estrang.drop(columns=['PERIODO_PRODUCAO'])\n",
    "\n",
    "df_film_estrang.loc[22, 'PERIODO_PRODUCAO_FIM'] = pd.to_datetime('2020-02-15')\n",
    "\n",
    "df_film_estrang.dropna(inplace=True)"
   ]
  },
  {
   "cell_type": "markdown",
   "metadata": {},
   "source": [
    "InvestidoresEmProjetosRenunciaFiscal"
   ]
  },
  {
   "cell_type": "code",
   "execution_count": 28,
   "metadata": {},
   "outputs": [],
   "source": [
    "colunas = ['ART25', 'ART18', 'ART1A', 'ART1', 'ART39', 'ART3A', 'ART3', 'ART41', 'VL_TOTAL_INVESTIDO']\n",
    "def col_convert(df, colunas,old, new, type):\n",
    "    for colunas in df[colunas]:\n",
    "        if df[colunas].dtype == object:\n",
    "            df[colunas] = df[colunas].str.replace(old, new).astype(float)\n",
    "\n",
    "col_convert(df_invest_proj_renun_fiscal, colunas, ',', '.', float)"
   ]
  },
  {
   "cell_type": "markdown",
   "metadata": {},
   "source": [
    "ObrasNaoPublicitariasBrasileiras"
   ]
  },
  {
   "cell_type": "code",
   "execution_count": 29,
   "metadata": {},
   "outputs": [],
   "source": [
    "#'QUANTIDAE_EPISODIOS'\n",
    "#Preenchendo valores nulos\n",
    "def fill_null(df, coluna, value):\n",
    "    df[coluna].fillna(value, inplace=True)\n",
    "\n",
    "fill_null(df_obra_nao_publi_br, 'QUANTIDADE_EPISODIOS', 1)\n",
    "df_obra_nao_publi_br['QUANTIDADE_EPISODIOS'] = df_obra_nao_publi_br['QUANTIDADE_EPISODIOS'].round().astype('int64')\n",
    "\n",
    "\n",
    "#'SUBTIPO_OBRA'\n",
    "#Replace em valores\n",
    "def replace(df,coluna,old_value, value):\n",
    "    df[coluna].replace(old_value, value, inplace=True)\n",
    "   \n",
    "replace(df_obra_nao_publi_br,'SUBTIPO_OBRA', '                                                                                                    ', 'NÃO INFORMADO')\n",
    "replace(df_obra_nao_publi_br,'SUBTIPO_OBRA', 'NÃO INFORMADO                                                                                       ', 'NÃO INFORMADO')\n",
    "\n",
    "\n",
    "#'ANO_PRODUCAO' e 'DT_EMISSAO_CPB'\n",
    "#convert to datetime\n",
    "def convert_datetime(df, coluna):\n",
    "    df[coluna] = pd.to_datetime(df[coluna], dayfirst=True, errors='coerce')\n",
    "\n",
    "def coluna_to_datetime(df, old_col, new_col):\n",
    "    df[new_col] = df[old_col].str.extract(r'(\\d{4})')\n",
    "    df[new_col] = pd.to_datetime(df[new_col], format='%Y', errors='coerce')\n",
    "    df = df.drop(columns=[old_col])\n",
    "\n",
    "coluna_to_datetime(df_obra_nao_publi_br, 'ANO_PRODUCAO', 'ANO_PRODUCAO')\n",
    "\n",
    "#Valores Nulos\n",
    "df_obra_nao_publi_br = df_obra_nao_publi_br.dropna(subset=['ANO_PRODUCAO'])\n",
    "convert_datetime(df_obra_nao_publi_br, 'DT_EMISSAO_CPB')"
   ]
  },
  {
   "cell_type": "markdown",
   "metadata": {},
   "source": [
    "ObrasNaoPublicitariasEstrangeiras"
   ]
  },
  {
   "cell_type": "code",
   "execution_count": 30,
   "metadata": {},
   "outputs": [],
   "source": [
    "#Fill Null\n",
    "def remove_column(df, coluna):\n",
    "    if coluna in df.columns:\n",
    "        df.drop(coluna, axis=1, inplace=True)\n",
    "\n",
    "    else:\n",
    "        pass\n",
    "\n",
    "remove_column(df_obra_publi_estrang, 11)\n",
    "remove_column(df_obra_publi_estrang, 12)\n",
    "\n",
    "df_obra_publi_estrang.columns = df_obra_publi_estrang.iloc[0]\n",
    "df_obra_publi_estrang = df_obra_publi_estrang[1:]\n",
    "\n",
    "def convert_to(df, coluna):\n",
    "    mask = df[coluna].str.contains('A', na=False)\n",
    "    df[coluna] = pd.to_datetime(df[coluna], format='mixed', dayfirst=True, errors='coerce')\n",
    "    df[coluna] = df[coluna].where(~mask, pd.NaT)\n",
    "\n",
    "convert_to(df_obra_publi_estrang, 'DT_EMISSAO_ROE')\n",
    "convert_to(df_obra_publi_estrang, 'ANO_PRODUCAO')\n",
    "\n",
    "df_obra_publi_estrang['ANO_PRODUCAO'].fillna('2016-01-01', inplace=True)\n",
    "\n",
    "df_obra_publi_estrang.dropna(inplace=True)\n",
    "\n",
    "#'SUBTIPO_OBRA'\n",
    "#Replace em valores\n",
    "def replace(df,coluna,old_value, value):\n",
    "    df[coluna].replace(old_value, value, inplace=True)\n",
    "   \n",
    "replace(df_obra_publi_estrang,'SUB_TIPO_OBRA', '                                                                                                    ', 'NÃO INFORMADO')\n",
    "replace(df_obra_publi_estrang,'SUB_TIPO_OBRA', '', 'NÃO INFORMADO')\n",
    "replace(df_obra_publi_estrang,'SUB_TIPO_OBRA', 'NÃO INFORMADO                                                                                       ', 'NÃO INFORMADO')"
   ]
  },
  {
   "cell_type": "markdown",
   "metadata": {},
   "source": [
    "ProgramaApoioAMercados"
   ]
  },
  {
   "cell_type": "code",
   "execution_count": 31,
   "metadata": {},
   "outputs": [],
   "source": [
    "#to_datetime\n",
    "def to_datetime(df, coluna):\n",
    "    df[coluna] = pd.to_datetime(df[coluna], dayfirst=True, errors='coerce')\n",
    "\n",
    "#to float\n",
    "def convert_to_float(df, coluna):\n",
    "    df[coluna] = df[coluna].apply(lambda x: float(x.replace(',','.')))\n",
    "\n",
    "convert_to_float(df_prg_apoio_mercado, 'VALOR_APOIO_FINANCEIRO')\n",
    "to_datetime(df_prg_apoio_mercado, 'DT_INICIO_EVENTO')\n",
    "to_datetime(df_prg_apoio_mercado, 'DT_TERMINO_EVENTO')"
   ]
  },
  {
   "cell_type": "markdown",
   "metadata": {},
   "source": [
    "ProjetosContratadosFSAeDesembolso"
   ]
  },
  {
   "cell_type": "code",
   "execution_count": 32,
   "metadata": {},
   "outputs": [],
   "source": [
    "# Tratando valores nulos\n",
    "def fill_null(df, coluna, fill):\n",
    "    df[coluna].fillna(fill, inplace=True)\n",
    "\n",
    "fill_null(df_proj_fsa_desemb, 'TITULO_PROJETO', 'NÃO FILME')\n",
    "fill_null(df_proj_fsa_desemb, 'CNPJ_PRODUTORA', 'SEM PRODUTORA')\n",
    "fill_null(df_proj_fsa_desemb, 'RAZAO_SOCIAL_PRODUTORA', 'SEM PRODUTORA')\n",
    "fill_null(df_proj_fsa_desemb, 'CNPJ_DISTRIBUIDORA_PROGRAMADORA', 'SEM DISTRIBUIDORA/PROGRAMADORA')\n",
    "fill_null(df_proj_fsa_desemb, 'RAZAO_SOCIAL_DISTRIBUIDORA_PROGRAMADORA', 'SEM DISTRIBUIDORA/PROGRAMADORA')\n",
    "fill_null(df_proj_fsa_desemb, 'DT_PRIMEIRO_DESEMBOLSO', 'SEM DESEMBOLSO')\n",
    "\n",
    "# to_datetime\n",
    "def to_datetime(df, coluna):\n",
    "    df[coluna] = pd.to_datetime(df[coluna], dayfirst=True, errors='coerce')\n",
    "\n",
    "to_datetime(df_proj_fsa_desemb, 'DT_PUBLICACAO_CONTRATO_DOU')\n",
    "#to_datetime(df_proj_fsa_desemb, 'DT_PRIMEIRO_DESEMBOLSO')\n",
    "\n",
    "# Float\n",
    "def convert_to_float(df, coluna):\n",
    "    df[coluna] = df[coluna].apply(lambda x: float(str(x).replace(',', '.')) if isinstance(x, (str, float)) else x)\n",
    "\n",
    "convert_to_float(df_proj_fsa_desemb, 'VL_CONTRATO_DOU')\n",
    "convert_to_float(df_proj_fsa_desemb, 'VL_TOTAL_LIBERADO')\n",
    "\n",
    "# to replace\n",
    "def replace(df, coluna, old_value, new_value):\n",
    "    df[coluna].replace(old_value, new_value, inplace=True)\n",
    "\n",
    "replace(df_proj_fsa_desemb, 'ANO_CHAMADA_PUBLICA', '2017/2018', 2017)\n",
    "replace(df_proj_fsa_desemb, 'ANO_CHAMADA_PUBLICA', '2017/2018/2018', 2017)\n",
    "\n",
    "df_proj_fsa_desemb['ANO_CHAMADA_PUBLICA'] = pd.to_datetime(df_proj_fsa_desemb['ANO_CHAMADA_PUBLICA'], format='%Y').dt.year\n",
    "fill_null(df_proj_fsa_desemb, 'VL_TOTAL_LIBERADO', 0)"
   ]
  },
  {
   "cell_type": "markdown",
   "metadata": {},
   "source": [
    "ProjetosRenunciaFiscal"
   ]
  },
  {
   "cell_type": "code",
   "execution_count": 33,
   "metadata": {},
   "outputs": [],
   "source": [
    "def convert_to_float(df, colunas):\n",
    "    df[colunas] = df[colunas].replace(',', '.', regex=True).astype(float)\n",
    "\n",
    "cols_to_convert = ['LEI_8313', 'ART1', 'ART1A', 'ART3', 'ART3A', 'ART39', 'FUNCINES', 'TOTAL_CAPTADO']\n",
    "convert_to_float(df_proj_renun_fisc, cols_to_convert)\n",
    "\n",
    "def to_datetime(df, coluna):\n",
    "    df[coluna] = pd.to_datetime(df[coluna], format='%d/%m/%Y', errors='coerce')\n",
    "\n",
    "to_datetime(df_proj_renun_fisc, 'DT_APROVACAO_CAPTACAO')\n",
    "to_datetime(df_proj_renun_fisc, 'DT_1_LIBERACAO')"
   ]
  },
  {
   "cell_type": "markdown",
   "metadata": {},
   "source": [
    "SalasDeExibicaoEComplexos"
   ]
  },
  {
   "cell_type": "code",
   "execution_count": 34,
   "metadata": {},
   "outputs": [],
   "source": [
    "#Fill Null\n",
    "def fill_null(df, coluna, fill):\n",
    "    df[coluna].fillna(fill, inplace=True)\n",
    "\n",
    "fill_null(df_salas_exib, 'NOME_SALA', 'SEM INFORMAÇÃO')\n",
    "fill_null(df_salas_exib, 'REGISTRO_SALA', 0)\n",
    "fill_null(df_salas_exib, 'SITUACAO_SALA', 'SEM INFORMAÇÃO')\n",
    "fill_null(df_salas_exib, 'ASSENTOS_SALA', 177)\n",
    "fill_null(df_salas_exib, 'PAGINA_ELETRONICA_COMPLEXO', 'SEM INFORMAÇÃO')\n",
    "fill_null(df_salas_exib, 'ENDERECO_COMPLEXO', 'SEM INFORMAÇÃO')\n",
    "fill_null(df_salas_exib, 'NUMERO_ENDERECO_COMPLEXO', 0)\n",
    "fill_null(df_salas_exib, 'COMPLEMENTO_COMPLEXO', 0)\n",
    "fill_null(df_salas_exib, 'BAIRRO_COMPLEXO', 'SEM_INFORMAÇÃO')\n",
    "fill_null(df_salas_exib, 'MUNICIPIO_COMPLEXO', 'SEM_INFORMAÇÃO')\n",
    "fill_null(df_salas_exib, 'UF_COMPLEXO', 'SEM_INFORMAÇÃO')\n",
    "\n",
    "#convert type:\n",
    "def convert_type(df, coluna):\n",
    "    df[coluna] = df[coluna].astype(int)\n",
    "\n",
    "convert_type(df_salas_exib, 'REGISTRO_SALA')\n",
    "convert_type(df_salas_exib, 'ASSENTOS_SALA')\n",
    "convert_type(df_salas_exib, 'REGISTRO_COMPLEXO')\n",
    "convert_type(df_salas_exib, 'NUMERO_ENDERECO_COMPLEXO')\n"
   ]
  },
  {
   "cell_type": "markdown",
   "metadata": {},
   "source": [
    "---"
   ]
  },
  {
   "cell_type": "markdown",
   "metadata": {},
   "source": [
    "Exportação"
   ]
  },
  {
   "cell_type": "code",
   "execution_count": 35,
   "metadata": {},
   "outputs": [],
   "source": [
    "def export(df, file):\n",
    "    df.to_csv(file, index=False, encoding='utf-8')\n",
    "\n",
    "export(df_ag_econ, 'to_replace.AgentesEconomicosRegulares.csv')\n",
    "export(df_apoio_fest, 'to_replace.ApoioFestivaisLaboratoriosWorkshops.csv')\n",
    "export(df_ativi_econ_agent_regis, 'to_replace.AtividadesEconomicasDosAgentesRegirstrados.csv')\n",
    "export(df_bilheteria, 'to_replace.BilheteriaObrasSemana.csv' )\n",
    "export(df_canais_regis, 'to_replace.CanaisDasProgramadorasRegistradas.csv')\n",
    "export(df_canal_distrib_obrig, 'to_replace.CanaisDeDistribuicaoObrigatoria.csv')\n",
    "export(df_dir_publi_br, 'to_replace.DiretoresDeObrasNaoPublicitariasBrasileiras.csv')\n",
    "export(df_dir_obra_publi_estrang, 'to_replace.DiretoresDeObrasNaoPublicitariasEstrangeiras.csv')\n",
    "export(df_film_estrang, 'to_replace.FilmagemEstrangeira.csv')\n",
    "export(df_grupos_econ, 'to_replace.GruposEconomicos.csv')\n",
    "export(df_invest_proj_renun_fiscal, 'to_replace.InvestidoresEmProjetosRenunciaFiscal.csv')\n",
    "export(df_obra_nao_publi_br, 'to_replace.ObrasNaoPublicitariasBrasileiras.csv')\n",
    "export(df_obra_n_publi_br_invest_indi, 'to_replace.ObrasNaoPublicitariasBrasileirasComFomentoIndireto.csv')\n",
    "export(df_obra_n_publi_br_fsa, 'to_replace.ObrasNaoPublicitariasBrasileirasComInvestimentoFSA.csv')\n",
    "export(df_obra_publi_estrang, 'to_replace.ObrasNaoPublicitariasEstrangeiras.csv')\n",
    "export(df_pais_obras_nao_publi_br, 'to_replace.PaisesDeOrigemObrasNaoPublicitariasBrasileiras.csv')\n",
    "export(df_prg_apoio_mercado, 'to_replace.ProgramaApoioAMercados.csv')\n",
    "export(df_proj_fsa_desemb, 'to_replace.ProjetosContratadosFSAeDesembolso.csv')\n",
    "export(df_proj_renun_fisc, 'to_replace.ProjetosRenunciaFiscal.csv')\n",
    "export(df_salas_exib, 'to_replace.SalasDeExibicaoEComplexos.csv')"
   ]
  }
 ],
 "metadata": {
  "kernelspec": {
   "display_name": "Python 3",
   "language": "python",
   "name": "python3"
  },
  "language_info": {
   "codemirror_mode": {
    "name": "ipython",
    "version": 3
   },
   "file_extension": ".py",
   "mimetype": "text/x-python",
   "name": "python",
   "nbconvert_exporter": "python",
   "pygments_lexer": "ipython3",
   "version": "3.11.4"
  },
  "orig_nbformat": 4
 },
 "nbformat": 4,
 "nbformat_minor": 2
}
