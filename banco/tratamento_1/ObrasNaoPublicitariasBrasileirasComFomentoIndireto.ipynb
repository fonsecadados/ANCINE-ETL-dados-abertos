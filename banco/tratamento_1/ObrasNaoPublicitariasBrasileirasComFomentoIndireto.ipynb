{
 "cells": [
  {
   "cell_type": "code",
   "execution_count": 9,
   "metadata": {},
   "outputs": [],
   "source": [
    "import pandas as pd\n",
    "import numpy as np\n"
   ]
  },
  {
   "cell_type": "code",
   "execution_count": 10,
   "metadata": {},
   "outputs": [
    {
     "data": {
      "text/html": [
       "<div>\n",
       "<style scoped>\n",
       "    .dataframe tbody tr th:only-of-type {\n",
       "        vertical-align: middle;\n",
       "    }\n",
       "\n",
       "    .dataframe tbody tr th {\n",
       "        vertical-align: top;\n",
       "    }\n",
       "\n",
       "    .dataframe thead th {\n",
       "        text-align: right;\n",
       "    }\n",
       "</style>\n",
       "<table border=\"1\" class=\"dataframe\">\n",
       "  <thead>\n",
       "    <tr style=\"text-align: right;\">\n",
       "      <th></th>\n",
       "      <th>CPB</th>\n",
       "      <th>TITULO_ORIGINAL</th>\n",
       "      <th>NUMERO_SALIC</th>\n",
       "    </tr>\n",
       "  </thead>\n",
       "  <tbody>\n",
       "    <tr>\n",
       "      <th>0</th>\n",
       "      <td>B0200000400000</td>\n",
       "      <td>SEJA O QUE DEUS QUISER                        ...</td>\n",
       "      <td>23734</td>\n",
       "    </tr>\n",
       "    <tr>\n",
       "      <th>1</th>\n",
       "      <td>B0200000400000</td>\n",
       "      <td>SEJA O QUE DEUS QUISER                        ...</td>\n",
       "      <td>327</td>\n",
       "    </tr>\n",
       "    <tr>\n",
       "      <th>2</th>\n",
       "      <td>B0200001000000</td>\n",
       "      <td>DURVAL DISCOS                                 ...</td>\n",
       "      <td>973937</td>\n",
       "    </tr>\n",
       "    <tr>\n",
       "      <th>3</th>\n",
       "      <td>B0200001200000</td>\n",
       "      <td>RUA SEIS SEM NUMERO                           ...</td>\n",
       "      <td>374</td>\n",
       "    </tr>\n",
       "    <tr>\n",
       "      <th>4</th>\n",
       "      <td>B0200001300000</td>\n",
       "      <td>DESMUNDO                                      ...</td>\n",
       "      <td>984739</td>\n",
       "    </tr>\n",
       "    <tr>\n",
       "      <th>...</th>\n",
       "      <td>...</td>\n",
       "      <td>...</td>\n",
       "      <td>...</td>\n",
       "    </tr>\n",
       "    <tr>\n",
       "      <th>2406</th>\n",
       "      <td>B2300147900000</td>\n",
       "      <td>BEM-VINDA VIOLETA                             ...</td>\n",
       "      <td>180432</td>\n",
       "    </tr>\n",
       "    <tr>\n",
       "      <th>2407</th>\n",
       "      <td>B2300148100000</td>\n",
       "      <td>IRACEMAS                                      ...</td>\n",
       "      <td>150514</td>\n",
       "    </tr>\n",
       "    <tr>\n",
       "      <th>2408</th>\n",
       "      <td>B2300149000000</td>\n",
       "      <td>AUTO POSTO - 2ª TEMPORADA                     ...</td>\n",
       "      <td>210003</td>\n",
       "    </tr>\n",
       "    <tr>\n",
       "      <th>2409</th>\n",
       "      <td>B2300149300000</td>\n",
       "      <td>A VIRADA                                      ...</td>\n",
       "      <td>230092</td>\n",
       "    </tr>\n",
       "    <tr>\n",
       "      <th>2410</th>\n",
       "      <td>B2300170000000</td>\n",
       "      <td>TECA E TUTI: UMA NOITE NA BIBLIOTECA          ...</td>\n",
       "      <td>70459</td>\n",
       "    </tr>\n",
       "  </tbody>\n",
       "</table>\n",
       "<p>2411 rows × 3 columns</p>\n",
       "</div>"
      ],
      "text/plain": [
       "                   CPB                                    TITULO_ORIGINAL   \n",
       "0     B0200000400000    SEJA O QUE DEUS QUISER                        ...  \\\n",
       "1     B0200000400000    SEJA O QUE DEUS QUISER                        ...   \n",
       "2     B0200001000000    DURVAL DISCOS                                 ...   \n",
       "3     B0200001200000    RUA SEIS SEM NUMERO                           ...   \n",
       "4     B0200001300000    DESMUNDO                                      ...   \n",
       "...                ...                                                ...   \n",
       "2406  B2300147900000    BEM-VINDA VIOLETA                             ...   \n",
       "2407  B2300148100000    IRACEMAS                                      ...   \n",
       "2408  B2300149000000    AUTO POSTO - 2ª TEMPORADA                     ...   \n",
       "2409  B2300149300000    A VIRADA                                      ...   \n",
       "2410  B2300170000000    TECA E TUTI: UMA NOITE NA BIBLIOTECA          ...   \n",
       "\n",
       "      NUMERO_SALIC  \n",
       "0            23734  \n",
       "1              327  \n",
       "2           973937  \n",
       "3              374  \n",
       "4           984739  \n",
       "...            ...  \n",
       "2406        180432  \n",
       "2407        150514  \n",
       "2408        210003  \n",
       "2409        230092  \n",
       "2410         70459  \n",
       "\n",
       "[2411 rows x 3 columns]"
      ]
     },
     "execution_count": 10,
     "metadata": {},
     "output_type": "execute_result"
    }
   ],
   "source": [
    "df_obra_n_publi_br_invest_indi = pd.read_csv('ObrasNaoPublicitariasBrasileirasComFomentoIndireto.csv', encoding='latin1', sep=';')\n",
    "df_obra_n_publi_br_invest_indi"
   ]
  },
  {
   "cell_type": "code",
   "execution_count": 11,
   "metadata": {},
   "outputs": [
    {
     "name": "stdout",
     "output_type": "stream",
     "text": [
      "<class 'pandas.core.frame.DataFrame'>\n",
      "RangeIndex: 2411 entries, 0 to 2410\n",
      "Data columns (total 3 columns):\n",
      " #   Column           Non-Null Count  Dtype \n",
      "---  ------           --------------  ----- \n",
      " 0   CPB              2411 non-null   object\n",
      " 1   TITULO_ORIGINAL  2411 non-null   object\n",
      " 2   NUMERO_SALIC     2411 non-null   int64 \n",
      "dtypes: int64(1), object(2)\n",
      "memory usage: 56.6+ KB\n"
     ]
    }
   ],
   "source": [
    "df_obra_n_publi_br_invest_indi.info()"
   ]
  },
  {
   "cell_type": "code",
   "execution_count": 12,
   "metadata": {},
   "outputs": [],
   "source": [
    "df_obra_n_publi_br_invest_indi.to_csv('to_replace.ObrasNaoPublicitariasBrasileirasComFomentoIndireto.csv')"
   ]
  },
  {
   "cell_type": "code",
   "execution_count": null,
   "metadata": {},
   "outputs": [],
   "source": []
  }
 ],
 "metadata": {
  "kernelspec": {
   "display_name": "Python 3",
   "language": "python",
   "name": "python3"
  },
  "language_info": {
   "codemirror_mode": {
    "name": "ipython",
    "version": 3
   },
   "file_extension": ".py",
   "mimetype": "text/x-python",
   "name": "python",
   "nbconvert_exporter": "python",
   "pygments_lexer": "ipython3",
   "version": "3.11.4"
  },
  "orig_nbformat": 4
 },
 "nbformat": 4,
 "nbformat_minor": 2
}
