{
 "cells": [
  {
   "cell_type": "code",
   "execution_count": 1,
   "metadata": {},
   "outputs": [],
   "source": [
    "import pandas as pd\n",
    "import numpy as np"
   ]
  },
  {
   "cell_type": "markdown",
   "metadata": {},
   "source": [
    "---"
   ]
  },
  {
   "cell_type": "markdown",
   "metadata": {},
   "source": [
    "# Extração"
   ]
  },
  {
   "cell_type": "code",
   "execution_count": 2,
   "metadata": {},
   "outputs": [
    {
     "data": {
      "text/html": [
       "<div>\n",
       "<style scoped>\n",
       "    .dataframe tbody tr th:only-of-type {\n",
       "        vertical-align: middle;\n",
       "    }\n",
       "\n",
       "    .dataframe tbody tr th {\n",
       "        vertical-align: top;\n",
       "    }\n",
       "\n",
       "    .dataframe thead th {\n",
       "        text-align: right;\n",
       "    }\n",
       "</style>\n",
       "<table border=\"1\" class=\"dataframe\">\n",
       "  <thead>\n",
       "    <tr style=\"text-align: right;\">\n",
       "      <th></th>\n",
       "      <th>REGISTRO_ANCINE</th>\n",
       "      <th>RAZAO_SOCIAL</th>\n",
       "      <th>CNPJ</th>\n",
       "      <th>ATIVIDADE_ECONOMICA</th>\n",
       "      <th>CLASSIFICACAO_ATIVIDADE</th>\n",
       "    </tr>\n",
       "  </thead>\n",
       "  <tbody>\n",
       "    <tr>\n",
       "      <th>0</th>\n",
       "      <td>1</td>\n",
       "      <td>M. ALTBERG CINEMA E VÍDEO LTDA</td>\n",
       "      <td>39.939.269/0001-73</td>\n",
       "      <td>Atividades de produção cinematográfica, de víd...</td>\n",
       "      <td>PRINCIPAL</td>\n",
       "    </tr>\n",
       "    <tr>\n",
       "      <th>1</th>\n",
       "      <td>1</td>\n",
       "      <td>M. ALTBERG CINEMA E VÍDEO LTDA</td>\n",
       "      <td>39.939.269/0001-73</td>\n",
       "      <td>Produção de filmes para publicidade</td>\n",
       "      <td>SECUNDARIA</td>\n",
       "    </tr>\n",
       "    <tr>\n",
       "      <th>2</th>\n",
       "      <td>10</td>\n",
       "      <td>CONSPIRAÇÃO FILMES S/A</td>\n",
       "      <td>02.020.661/0001-04</td>\n",
       "      <td>Atividades de produção cinematográfica, de víd...</td>\n",
       "      <td>PRINCIPAL</td>\n",
       "    </tr>\n",
       "    <tr>\n",
       "      <th>3</th>\n",
       "      <td>10</td>\n",
       "      <td>CONSPIRAÇÃO FILMES S/A</td>\n",
       "      <td>02.020.661/0001-04</td>\n",
       "      <td>Estúdios cinematográficos</td>\n",
       "      <td>SECUNDARIA</td>\n",
       "    </tr>\n",
       "    <tr>\n",
       "      <th>4</th>\n",
       "      <td>100</td>\n",
       "      <td>RADAR CINEMA E TELEVISÃO LTDA</td>\n",
       "      <td>02.947.857/0001-49</td>\n",
       "      <td>Atividades de produção cinematográfica, de víd...</td>\n",
       "      <td>PRINCIPAL</td>\n",
       "    </tr>\n",
       "    <tr>\n",
       "      <th>...</th>\n",
       "      <td>...</td>\n",
       "      <td>...</td>\n",
       "      <td>...</td>\n",
       "      <td>...</td>\n",
       "      <td>...</td>\n",
       "    </tr>\n",
       "    <tr>\n",
       "      <th>107153</th>\n",
       "      <td>995</td>\n",
       "      <td>FBL E ASSOCIADOS, COMUNICAÇÕES LTDA</td>\n",
       "      <td>73.364.879/0001-24</td>\n",
       "      <td>Estúdios cinematográficos</td>\n",
       "      <td>SECUNDARIA</td>\n",
       "    </tr>\n",
       "    <tr>\n",
       "      <th>107154</th>\n",
       "      <td>995</td>\n",
       "      <td>FBL E ASSOCIADOS, COMUNICAÇÕES LTDA</td>\n",
       "      <td>73.364.879/0001-24</td>\n",
       "      <td>Outras atividades de ensino não especificadas ...</td>\n",
       "      <td>SECUNDARIA</td>\n",
       "    </tr>\n",
       "    <tr>\n",
       "      <th>107155</th>\n",
       "      <td>995</td>\n",
       "      <td>FBL E ASSOCIADOS, COMUNICAÇÕES LTDA</td>\n",
       "      <td>73.364.879/0001-24</td>\n",
       "      <td>Preparação de documentos e serviços especializ...</td>\n",
       "      <td>SECUNDARIA</td>\n",
       "    </tr>\n",
       "    <tr>\n",
       "      <th>107156</th>\n",
       "      <td>995</td>\n",
       "      <td>FBL E ASSOCIADOS, COMUNICAÇÕES LTDA</td>\n",
       "      <td>73.364.879/0001-24</td>\n",
       "      <td>Produção de filmes para publicidade</td>\n",
       "      <td>SECUNDARIA</td>\n",
       "    </tr>\n",
       "    <tr>\n",
       "      <th>107157</th>\n",
       "      <td>995</td>\n",
       "      <td>FBL E ASSOCIADOS, COMUNICAÇÕES LTDA</td>\n",
       "      <td>73.364.879/0001-24</td>\n",
       "      <td>Serviços de organização de feiras, congressos,...</td>\n",
       "      <td>SECUNDARIA</td>\n",
       "    </tr>\n",
       "  </tbody>\n",
       "</table>\n",
       "<p>107158 rows × 5 columns</p>\n",
       "</div>"
      ],
      "text/plain": [
       "        REGISTRO_ANCINE                         RAZAO_SOCIAL   \n",
       "0                     1       M. ALTBERG CINEMA E VÍDEO LTDA  \\\n",
       "1                     1       M. ALTBERG CINEMA E VÍDEO LTDA   \n",
       "2                    10               CONSPIRAÇÃO FILMES S/A   \n",
       "3                    10               CONSPIRAÇÃO FILMES S/A   \n",
       "4                   100        RADAR CINEMA E TELEVISÃO LTDA   \n",
       "...                 ...                                  ...   \n",
       "107153              995  FBL E ASSOCIADOS, COMUNICAÇÕES LTDA   \n",
       "107154              995  FBL E ASSOCIADOS, COMUNICAÇÕES LTDA   \n",
       "107155              995  FBL E ASSOCIADOS, COMUNICAÇÕES LTDA   \n",
       "107156              995  FBL E ASSOCIADOS, COMUNICAÇÕES LTDA   \n",
       "107157              995  FBL E ASSOCIADOS, COMUNICAÇÕES LTDA   \n",
       "\n",
       "                      CNPJ                                ATIVIDADE_ECONOMICA   \n",
       "0       39.939.269/0001-73  Atividades de produção cinematográfica, de víd...  \\\n",
       "1       39.939.269/0001-73                Produção de filmes para publicidade   \n",
       "2       02.020.661/0001-04  Atividades de produção cinematográfica, de víd...   \n",
       "3       02.020.661/0001-04                          Estúdios cinematográficos   \n",
       "4       02.947.857/0001-49  Atividades de produção cinematográfica, de víd...   \n",
       "...                    ...                                                ...   \n",
       "107153  73.364.879/0001-24                          Estúdios cinematográficos   \n",
       "107154  73.364.879/0001-24  Outras atividades de ensino não especificadas ...   \n",
       "107155  73.364.879/0001-24  Preparação de documentos e serviços especializ...   \n",
       "107156  73.364.879/0001-24                Produção de filmes para publicidade   \n",
       "107157  73.364.879/0001-24  Serviços de organização de feiras, congressos,...   \n",
       "\n",
       "       CLASSIFICACAO_ATIVIDADE  \n",
       "0                    PRINCIPAL  \n",
       "1                   SECUNDARIA  \n",
       "2                    PRINCIPAL  \n",
       "3                   SECUNDARIA  \n",
       "4                    PRINCIPAL  \n",
       "...                        ...  \n",
       "107153              SECUNDARIA  \n",
       "107154              SECUNDARIA  \n",
       "107155              SECUNDARIA  \n",
       "107156              SECUNDARIA  \n",
       "107157              SECUNDARIA  \n",
       "\n",
       "[107158 rows x 5 columns]"
      ]
     },
     "execution_count": 2,
     "metadata": {},
     "output_type": "execute_result"
    }
   ],
   "source": [
    "df_ativi_econ_agent_regis = pd.read_csv('AtividadesEconomicasDosAgentesRegistrados.csv', encoding='latin1', sep=';')\n",
    "df_ativi_econ_agent_regis"
   ]
  },
  {
   "cell_type": "code",
   "execution_count": 3,
   "metadata": {},
   "outputs": [
    {
     "name": "stdout",
     "output_type": "stream",
     "text": [
      "<class 'pandas.core.frame.DataFrame'>\n",
      "RangeIndex: 107158 entries, 0 to 107157\n",
      "Data columns (total 5 columns):\n",
      " #   Column                   Non-Null Count   Dtype \n",
      "---  ------                   --------------   ----- \n",
      " 0   REGISTRO_ANCINE          107158 non-null  int64 \n",
      " 1   RAZAO_SOCIAL             107158 non-null  object\n",
      " 2   CNPJ                     107158 non-null  object\n",
      " 3   ATIVIDADE_ECONOMICA      107158 non-null  object\n",
      " 4   CLASSIFICACAO_ATIVIDADE  107158 non-null  object\n",
      "dtypes: int64(1), object(4)\n",
      "memory usage: 4.1+ MB\n"
     ]
    }
   ],
   "source": [
    "df_ativi_econ_agent_regis.info()"
   ]
  },
  {
   "cell_type": "code",
   "execution_count": 4,
   "metadata": {},
   "outputs": [],
   "source": [
    "df_ativi_econ_agent_regis.to_csv('to_replace.AtividadesEconomicasDosAgentesRegirstrados.csv', encoding='utf-8', index=False)"
   ]
  },
  {
   "cell_type": "code",
   "execution_count": null,
   "metadata": {},
   "outputs": [],
   "source": []
  }
 ],
 "metadata": {
  "kernelspec": {
   "display_name": "Python 3",
   "language": "python",
   "name": "python3"
  },
  "language_info": {
   "codemirror_mode": {
    "name": "ipython",
    "version": 3
   },
   "file_extension": ".py",
   "mimetype": "text/x-python",
   "name": "python",
   "nbconvert_exporter": "python",
   "pygments_lexer": "ipython3",
   "version": "3.11.4"
  },
  "orig_nbformat": 4
 },
 "nbformat": 4,
 "nbformat_minor": 2
}
