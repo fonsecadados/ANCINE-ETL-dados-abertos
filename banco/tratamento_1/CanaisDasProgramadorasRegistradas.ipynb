{
 "cells": [
  {
   "cell_type": "code",
   "execution_count": 1,
   "metadata": {},
   "outputs": [],
   "source": [
    "import pandas as pd\n",
    "import numpy as np"
   ]
  },
  {
   "cell_type": "markdown",
   "metadata": {},
   "source": [
    "---"
   ]
  },
  {
   "cell_type": "markdown",
   "metadata": {},
   "source": [
    "# Extração"
   ]
  },
  {
   "cell_type": "code",
   "execution_count": 2,
   "metadata": {},
   "outputs": [
    {
     "data": {
      "text/html": [
       "<div>\n",
       "<style scoped>\n",
       "    .dataframe tbody tr th:only-of-type {\n",
       "        vertical-align: middle;\n",
       "    }\n",
       "\n",
       "    .dataframe tbody tr th {\n",
       "        vertical-align: top;\n",
       "    }\n",
       "\n",
       "    .dataframe thead th {\n",
       "        text-align: right;\n",
       "    }\n",
       "</style>\n",
       "<table border=\"1\" class=\"dataframe\">\n",
       "  <thead>\n",
       "    <tr style=\"text-align: right;\">\n",
       "      <th></th>\n",
       "      <th>CANAL</th>\n",
       "      <th>NR_IDENTIFICACAO</th>\n",
       "      <th>CLASSIFICACAO_CANAL</th>\n",
       "      <th>TIPO_CONTEUDO_CANAL</th>\n",
       "      <th>OFERTA_CLIENTE</th>\n",
       "      <th>DATA_INICIO_OFERTA</th>\n",
       "      <th>DENSIDADE_CANAL</th>\n",
       "      <th>NOME_PROGRAMADORA</th>\n",
       "      <th>CNPJ_PROGRAMADORA</th>\n",
       "      <th>CLASSIFICAO_PROGRAMADORA</th>\n",
       "      <th>PAIS_PROGRAMADORA</th>\n",
       "    </tr>\n",
       "  </thead>\n",
       "  <tbody>\n",
       "    <tr>\n",
       "      <th>0</th>\n",
       "      <td>A&amp;E</td>\n",
       "      <td>22398.30001</td>\n",
       "      <td>Canal de espaço qualificado</td>\n",
       "      <td>Canal de conteúdo em geral</td>\n",
       "      <td>CANAL OFERTADO EM PACOTE</td>\n",
       "      <td>01/06/1997</td>\n",
       "      <td>PADRÃO</td>\n",
       "      <td>A&amp;E BRAZIL DISTRIBUTION, LLC</td>\n",
       "      <td>NaN</td>\n",
       "      <td>Programadora Estrangeira</td>\n",
       "      <td>ESTADOS UNIDOS</td>\n",
       "    </tr>\n",
       "    <tr>\n",
       "      <th>1</th>\n",
       "      <td>A&amp;E HD</td>\n",
       "      <td>22398.30002</td>\n",
       "      <td>Canal de espaço qualificado</td>\n",
       "      <td>Canal de conteúdo em geral</td>\n",
       "      <td>CANAL OFERTADO EM PACOTE</td>\n",
       "      <td>01/12/2010</td>\n",
       "      <td>ALTA DEFINIÇÃO</td>\n",
       "      <td>A&amp;E BRAZIL DISTRIBUTION, LLC</td>\n",
       "      <td>NaN</td>\n",
       "      <td>Programadora Estrangeira</td>\n",
       "      <td>ESTADOS UNIDOS</td>\n",
       "    </tr>\n",
       "    <tr>\n",
       "      <th>2</th>\n",
       "      <td>AFESP TV</td>\n",
       "      <td>35307.30001</td>\n",
       "      <td>Canal de programação comum</td>\n",
       "      <td>Canal de conteúdo em geral</td>\n",
       "      <td>CANAL OFERTADO EM PACOTE</td>\n",
       "      <td>01/01/2017</td>\n",
       "      <td>PADRÃO</td>\n",
       "      <td>ASSOCIAÇÃO DOS FUNCIONÁRIOS EMPREGADOS E SERVI...</td>\n",
       "      <td>26.650.154/0001-12</td>\n",
       "      <td>NaN</td>\n",
       "      <td>BRASIL</td>\n",
       "    </tr>\n",
       "    <tr>\n",
       "      <th>3</th>\n",
       "      <td>AGRO+</td>\n",
       "      <td>3293.30011</td>\n",
       "      <td>Canal de programação comum</td>\n",
       "      <td>Canal de conteúdo jornalístico</td>\n",
       "      <td>CANAL OFERTADO EM PACOTE</td>\n",
       "      <td>22/06/2020</td>\n",
       "      <td>PADRÃO</td>\n",
       "      <td>NEWCO PROGRAMADORA E PRODUTORA DE COMUNICACAO ...</td>\n",
       "      <td>04.334.366/0001-58</td>\n",
       "      <td>Programadora brasileira</td>\n",
       "      <td>BRASIL</td>\n",
       "    </tr>\n",
       "    <tr>\n",
       "      <th>4</th>\n",
       "      <td>AGRO+ HD</td>\n",
       "      <td>3293.30012</td>\n",
       "      <td>Canal de programação comum</td>\n",
       "      <td>Canal de conteúdo jornalístico</td>\n",
       "      <td>CANAL OFERTADO EM PACOTE</td>\n",
       "      <td>22/06/2020</td>\n",
       "      <td>ALTA DEFINIÇÃO</td>\n",
       "      <td>NEWCO PROGRAMADORA E PRODUTORA DE COMUNICACAO ...</td>\n",
       "      <td>04.334.366/0001-58</td>\n",
       "      <td>Programadora brasileira</td>\n",
       "      <td>BRASIL</td>\n",
       "    </tr>\n",
       "  </tbody>\n",
       "</table>\n",
       "</div>"
      ],
      "text/plain": [
       "      CANAL NR_IDENTIFICACAO          CLASSIFICACAO_CANAL   \n",
       "0       A&E     22398.30001   Canal de espaço qualificado  \\\n",
       "1    A&E HD     22398.30002   Canal de espaço qualificado   \n",
       "2  AFESP TV     35307.30001    Canal de programação comum   \n",
       "3     AGRO+      3293.30011    Canal de programação comum   \n",
       "4  AGRO+ HD      3293.30012    Canal de programação comum   \n",
       "\n",
       "              TIPO_CONTEUDO_CANAL            OFERTA_CLIENTE   \n",
       "0      Canal de conteúdo em geral  CANAL OFERTADO EM PACOTE  \\\n",
       "1      Canal de conteúdo em geral  CANAL OFERTADO EM PACOTE   \n",
       "2      Canal de conteúdo em geral  CANAL OFERTADO EM PACOTE   \n",
       "3  Canal de conteúdo jornalístico  CANAL OFERTADO EM PACOTE   \n",
       "4  Canal de conteúdo jornalístico  CANAL OFERTADO EM PACOTE   \n",
       "\n",
       "  DATA_INICIO_OFERTA DENSIDADE_CANAL   \n",
       "0         01/06/1997          PADRÃO  \\\n",
       "1         01/12/2010  ALTA DEFINIÇÃO   \n",
       "2         01/01/2017          PADRÃO   \n",
       "3         22/06/2020          PADRÃO   \n",
       "4         22/06/2020  ALTA DEFINIÇÃO   \n",
       "\n",
       "                                   NOME_PROGRAMADORA   CNPJ_PROGRAMADORA   \n",
       "0                       A&E BRAZIL DISTRIBUTION, LLC                 NaN  \\\n",
       "1                       A&E BRAZIL DISTRIBUTION, LLC                 NaN   \n",
       "2  ASSOCIAÇÃO DOS FUNCIONÁRIOS EMPREGADOS E SERVI...  26.650.154/0001-12   \n",
       "3  NEWCO PROGRAMADORA E PRODUTORA DE COMUNICACAO ...  04.334.366/0001-58   \n",
       "4  NEWCO PROGRAMADORA E PRODUTORA DE COMUNICACAO ...  04.334.366/0001-58   \n",
       "\n",
       "   CLASSIFICAO_PROGRAMADORA PAIS_PROGRAMADORA  \n",
       "0  Programadora Estrangeira    ESTADOS UNIDOS  \n",
       "1  Programadora Estrangeira    ESTADOS UNIDOS  \n",
       "2                       NaN            BRASIL  \n",
       "3   Programadora brasileira            BRASIL  \n",
       "4   Programadora brasileira            BRASIL  "
      ]
     },
     "execution_count": 2,
     "metadata": {},
     "output_type": "execute_result"
    }
   ],
   "source": [
    "df_canais_regis = pd.read_csv('CanaisDasProgramadorasRegistradas.csv', encoding='latin1', sep=';')\n",
    "df_canais_regis.head(5)\n"
   ]
  },
  {
   "cell_type": "code",
   "execution_count": 3,
   "metadata": {},
   "outputs": [
    {
     "name": "stdout",
     "output_type": "stream",
     "text": [
      "<class 'pandas.core.frame.DataFrame'>\n",
      "RangeIndex: 341 entries, 0 to 340\n",
      "Data columns (total 11 columns):\n",
      " #   Column                    Non-Null Count  Dtype \n",
      "---  ------                    --------------  ----- \n",
      " 0   CANAL                     341 non-null    object\n",
      " 1   NR_IDENTIFICACAO          341 non-null    object\n",
      " 2   CLASSIFICACAO_CANAL       341 non-null    object\n",
      " 3   TIPO_CONTEUDO_CANAL       341 non-null    object\n",
      " 4   OFERTA_CLIENTE            341 non-null    object\n",
      " 5   DATA_INICIO_OFERTA        341 non-null    object\n",
      " 6   DENSIDADE_CANAL           341 non-null    object\n",
      " 7   NOME_PROGRAMADORA         341 non-null    object\n",
      " 8   CNPJ_PROGRAMADORA         255 non-null    object\n",
      " 9   CLASSIFICAO_PROGRAMADORA  330 non-null    object\n",
      " 10  PAIS_PROGRAMADORA         341 non-null    object\n",
      "dtypes: object(11)\n",
      "memory usage: 29.4+ KB\n"
     ]
    }
   ],
   "source": [
    "df_canais_regis.info()"
   ]
  },
  {
   "cell_type": "code",
   "execution_count": 4,
   "metadata": {},
   "outputs": [
    {
     "data": {
      "text/plain": [
       "CANAL                        0\n",
       "NR_IDENTIFICACAO             0\n",
       "CLASSIFICACAO_CANAL          0\n",
       "TIPO_CONTEUDO_CANAL          0\n",
       "OFERTA_CLIENTE               0\n",
       "DATA_INICIO_OFERTA           0\n",
       "DENSIDADE_CANAL              0\n",
       "NOME_PROGRAMADORA            0\n",
       "CNPJ_PROGRAMADORA           86\n",
       "CLASSIFICAO_PROGRAMADORA    11\n",
       "PAIS_PROGRAMADORA            0\n",
       "dtype: int64"
      ]
     },
     "execution_count": 4,
     "metadata": {},
     "output_type": "execute_result"
    }
   ],
   "source": [
    "df_canais_regis.isnull().sum()"
   ]
  },
  {
   "cell_type": "markdown",
   "metadata": {},
   "source": [
    "---"
   ]
  },
  {
   "cell_type": "markdown",
   "metadata": {},
   "source": [
    "# Transformação"
   ]
  },
  {
   "cell_type": "markdown",
   "metadata": {},
   "source": [
    "Limpeza, Filtragem e Padronização de Dados"
   ]
  },
  {
   "cell_type": "code",
   "execution_count": 5,
   "metadata": {},
   "outputs": [],
   "source": [
    "#Verificar se há algum NaN ou Null\n",
    "\n",
    "def null(df):\n",
    "    df.info()\n",
    "\n",
    "#Tratando valores nulos\n",
    "\n",
    "def fill_null(df, coluna, fill):\n",
    "    df[coluna].fillna(fill, inplace=True)\n",
    "    \n",
    "\n",
    "# Transformando dtypes de colunas\n",
    "\n",
    "# 'DATA_INICIO_OFERTA' em datetime\n",
    "\n",
    "def date(df, coluna):\n",
    "    df[coluna] = pd.to_datetime(df[coluna], dayfirst=True)\n",
    "\n",
    "# 'NR_IDENTIFICACAO' em float\n",
    "\n",
    "def convert_to_float(df, column_name):\n",
    "    df[column_name] = pd.to_numeric(df[column_name].str.strip(), errors='coerce')\n",
    "\n"
   ]
  },
  {
   "cell_type": "code",
   "execution_count": 6,
   "metadata": {},
   "outputs": [
    {
     "name": "stdout",
     "output_type": "stream",
     "text": [
      "<class 'pandas.core.frame.DataFrame'>\n",
      "RangeIndex: 341 entries, 0 to 340\n",
      "Data columns (total 11 columns):\n",
      " #   Column                    Non-Null Count  Dtype \n",
      "---  ------                    --------------  ----- \n",
      " 0   CANAL                     341 non-null    object\n",
      " 1   NR_IDENTIFICACAO          341 non-null    object\n",
      " 2   CLASSIFICACAO_CANAL       341 non-null    object\n",
      " 3   TIPO_CONTEUDO_CANAL       341 non-null    object\n",
      " 4   OFERTA_CLIENTE            341 non-null    object\n",
      " 5   DATA_INICIO_OFERTA        341 non-null    object\n",
      " 6   DENSIDADE_CANAL           341 non-null    object\n",
      " 7   NOME_PROGRAMADORA         341 non-null    object\n",
      " 8   CNPJ_PROGRAMADORA         255 non-null    object\n",
      " 9   CLASSIFICAO_PROGRAMADORA  330 non-null    object\n",
      " 10  PAIS_PROGRAMADORA         341 non-null    object\n",
      "dtypes: object(11)\n",
      "memory usage: 29.4+ KB\n"
     ]
    }
   ],
   "source": [
    "df_canais_regis.info()"
   ]
  },
  {
   "cell_type": "code",
   "execution_count": 7,
   "metadata": {},
   "outputs": [],
   "source": [
    "fill_null(df_canais_regis, 'CNPJ_PROGRAMADORA', '00.000.000/0000-00')\n",
    "fill_null(df_canais_regis,'CLASSIFICAO_PROGRAMADORA', 'Sem Informação')\n",
    "date(df_canais_regis, 'DATA_INICIO_OFERTA')\n",
    "convert_to_float(df_canais_regis, 'NR_IDENTIFICACAO')"
   ]
  },
  {
   "cell_type": "code",
   "execution_count": 8,
   "metadata": {},
   "outputs": [
    {
     "name": "stdout",
     "output_type": "stream",
     "text": [
      "<class 'pandas.core.frame.DataFrame'>\n",
      "RangeIndex: 341 entries, 0 to 340\n",
      "Data columns (total 11 columns):\n",
      " #   Column                    Non-Null Count  Dtype         \n",
      "---  ------                    --------------  -----         \n",
      " 0   CANAL                     341 non-null    object        \n",
      " 1   NR_IDENTIFICACAO          341 non-null    float64       \n",
      " 2   CLASSIFICACAO_CANAL       341 non-null    object        \n",
      " 3   TIPO_CONTEUDO_CANAL       341 non-null    object        \n",
      " 4   OFERTA_CLIENTE            341 non-null    object        \n",
      " 5   DATA_INICIO_OFERTA        341 non-null    datetime64[ns]\n",
      " 6   DENSIDADE_CANAL           341 non-null    object        \n",
      " 7   NOME_PROGRAMADORA         341 non-null    object        \n",
      " 8   CNPJ_PROGRAMADORA         341 non-null    object        \n",
      " 9   CLASSIFICAO_PROGRAMADORA  341 non-null    object        \n",
      " 10  PAIS_PROGRAMADORA         341 non-null    object        \n",
      "dtypes: datetime64[ns](1), float64(1), object(9)\n",
      "memory usage: 29.4+ KB\n"
     ]
    }
   ],
   "source": [
    "df_canais_regis.info()"
   ]
  },
  {
   "cell_type": "markdown",
   "metadata": {},
   "source": [
    "---"
   ]
  },
  {
   "cell_type": "markdown",
   "metadata": {},
   "source": [
    "# Exportando 1° Tratamento"
   ]
  },
  {
   "cell_type": "code",
   "execution_count": 9,
   "metadata": {},
   "outputs": [],
   "source": [
    "df_canais_regis.to_csv('to_replace.CanaisDasProgramadorasRegistradas.csv')"
   ]
  }
 ],
 "metadata": {
  "kernelspec": {
   "display_name": "Python 3",
   "language": "python",
   "name": "python3"
  },
  "language_info": {
   "codemirror_mode": {
    "name": "ipython",
    "version": 3
   },
   "file_extension": ".py",
   "mimetype": "text/x-python",
   "name": "python",
   "nbconvert_exporter": "python",
   "pygments_lexer": "ipython3",
   "version": "3.11.4"
  },
  "orig_nbformat": 4
 },
 "nbformat": 4,
 "nbformat_minor": 2
}
